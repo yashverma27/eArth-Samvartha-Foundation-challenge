{
 "cells": [
  {
   "cell_type": "markdown",
   "metadata": {},
   "source": [
    "# eArth Samvartha Foundation Challenge\n"
   ]
  },
  {
   "cell_type": "code",
   "execution_count": 0,
   "metadata": {
    "colab": {},
    "colab_type": "code",
    "id": "stL5VmdCaW4P"
   },
   "outputs": [],
   "source": [
    "import pandas as pd\n",
    "import matplotlib.pyplot as plt"
   ]
  },
  {
   "cell_type": "code",
   "execution_count": 3,
   "metadata": {
    "colab": {
     "base_uri": "https://localhost:8080/",
     "height": 122
    },
    "colab_type": "code",
    "id": "N0fEncpLLywv",
    "outputId": "cb3b22a1-b68b-459a-bb53-471f013f54e0"
   },
   "outputs": [
    {
     "name": "stdout",
     "output_type": "stream",
     "text": [
      "Go to this URL in a browser: https://accounts.google.com/o/oauth2/auth?client_id=947318989803-6bn6qk8qdgf4n4g3pfee6491hc0brc4i.apps.googleusercontent.com&redirect_uri=urn%3aietf%3awg%3aoauth%3a2.0%3aoob&response_type=code&scope=email%20https%3a%2f%2fwww.googleapis.com%2fauth%2fdocs.test%20https%3a%2f%2fwww.googleapis.com%2fauth%2fdrive%20https%3a%2f%2fwww.googleapis.com%2fauth%2fdrive.photos.readonly%20https%3a%2f%2fwww.googleapis.com%2fauth%2fpeopleapi.readonly\n",
      "\n",
      "Enter your authorization code:\n",
      "··········\n",
      "Mounted at /content/drive\n"
     ]
    }
   ],
   "source": [
    "from google.colab import drive\n",
    "drive.mount('/content/drive')"
   ]
  },
  {
   "cell_type": "markdown",
   "metadata": {
    "colab_type": "text",
    "id": "1aL87xRzakco"
   },
   "source": [
    "**Step 4: Read csv file into pandas and look at some values**"
   ]
  },
  {
   "cell_type": "code",
   "execution_count": 27,
   "metadata": {
    "colab": {
     "base_uri": "https://localhost:8080/",
     "height": 309
    },
    "colab_type": "code",
    "id": "uNhaz09gYACm",
    "outputId": "e17825e7-a207-4179-e34c-f468e01e55a7"
   },
   "outputs": [
    {
     "data": {
      "text/html": [
       "<div>\n",
       "<style scoped>\n",
       "    .dataframe tbody tr th:only-of-type {\n",
       "        vertical-align: middle;\n",
       "    }\n",
       "\n",
       "    .dataframe tbody tr th {\n",
       "        vertical-align: top;\n",
       "    }\n",
       "\n",
       "    .dataframe thead th {\n",
       "        text-align: right;\n",
       "    }\n",
       "</style>\n",
       "<table border=\"1\" class=\"dataframe\">\n",
       "  <thead>\n",
       "    <tr style=\"text-align: right;\">\n",
       "      <th></th>\n",
       "      <th>SerialNumber</th>\n",
       "      <th>Tehsil</th>\n",
       "      <th>Block</th>\n",
       "      <th>Village</th>\n",
       "      <th>FullName</th>\n",
       "      <th>FathersFullName</th>\n",
       "      <th>Age</th>\n",
       "      <th>Sex</th>\n",
       "      <th>PhoneNumber</th>\n",
       "      <th>IDProof</th>\n",
       "      <th>IDNumber</th>\n",
       "      <th>ArrivalDate</th>\n",
       "      <th>SourceCity</th>\n",
       "      <th>SourceCheckup</th>\n",
       "      <th>Skill</th>\n",
       "      <th>YrsExp</th>\n",
       "      <th>OtherSkills</th>\n",
       "      <th>CompanyName</th>\n",
       "      <th>Comments</th>\n",
       "    </tr>\n",
       "  </thead>\n",
       "  <tbody>\n",
       "    <tr>\n",
       "      <th>0</th>\n",
       "      <td>1</td>\n",
       "      <td>BASTI SADAR</td>\n",
       "      <td>BAHADUR PUR</td>\n",
       "      <td>Deidentified</td>\n",
       "      <td>Deidentified</td>\n",
       "      <td>Deidentified</td>\n",
       "      <td>15.0</td>\n",
       "      <td>MALE</td>\n",
       "      <td>12345678</td>\n",
       "      <td>ADHAR</td>\n",
       "      <td>9999999999</td>\n",
       "      <td>09-05-2020</td>\n",
       "      <td>MUMBAI</td>\n",
       "      <td>YES</td>\n",
       "      <td>LABOUR</td>\n",
       "      <td>7 MONTH</td>\n",
       "      <td>NaN</td>\n",
       "      <td>NaN</td>\n",
       "      <td>NaN</td>\n",
       "    </tr>\n",
       "    <tr>\n",
       "      <th>1</th>\n",
       "      <td>2</td>\n",
       "      <td>BASTI SADAR</td>\n",
       "      <td>BAHADUR PUR</td>\n",
       "      <td>Deidentified</td>\n",
       "      <td>Deidentified</td>\n",
       "      <td>Deidentified</td>\n",
       "      <td>22.0</td>\n",
       "      <td>MALE</td>\n",
       "      <td>12345678</td>\n",
       "      <td>ADHAR</td>\n",
       "      <td>9999999999</td>\n",
       "      <td>09-05-2020</td>\n",
       "      <td>MUMBAI</td>\n",
       "      <td>YES</td>\n",
       "      <td>LABOUR</td>\n",
       "      <td>5 MONTHS</td>\n",
       "      <td>NaN</td>\n",
       "      <td>NaN</td>\n",
       "      <td>NaN</td>\n",
       "    </tr>\n",
       "    <tr>\n",
       "      <th>2</th>\n",
       "      <td>3</td>\n",
       "      <td>BASTI SADAR</td>\n",
       "      <td>Bahadur pur</td>\n",
       "      <td>Deidentified</td>\n",
       "      <td>Deidentified</td>\n",
       "      <td>Deidentified</td>\n",
       "      <td>20.0</td>\n",
       "      <td>F</td>\n",
       "      <td>12345678</td>\n",
       "      <td>NaN</td>\n",
       "      <td>9999999999</td>\n",
       "      <td>29-04-2020</td>\n",
       "      <td>Prayagraj</td>\n",
       "      <td>YES</td>\n",
       "      <td>NaN</td>\n",
       "      <td>NaN</td>\n",
       "      <td>NaN</td>\n",
       "      <td>NaN</td>\n",
       "      <td>NaN</td>\n",
       "    </tr>\n",
       "    <tr>\n",
       "      <th>3</th>\n",
       "      <td>4</td>\n",
       "      <td>BASTI SADAR</td>\n",
       "      <td>Bahadur pur</td>\n",
       "      <td>Deidentified</td>\n",
       "      <td>Deidentified</td>\n",
       "      <td>Deidentified</td>\n",
       "      <td>21.0</td>\n",
       "      <td>M</td>\n",
       "      <td>12345678</td>\n",
       "      <td>NaN</td>\n",
       "      <td>9999999999</td>\n",
       "      <td>29-04-2020</td>\n",
       "      <td>Prayagraj</td>\n",
       "      <td>YES</td>\n",
       "      <td>NaN</td>\n",
       "      <td>NaN</td>\n",
       "      <td>NaN</td>\n",
       "      <td>NaN</td>\n",
       "      <td>NaN</td>\n",
       "    </tr>\n",
       "    <tr>\n",
       "      <th>4</th>\n",
       "      <td>5</td>\n",
       "      <td>BASTI SADAR</td>\n",
       "      <td>Bahadur pur</td>\n",
       "      <td>Deidentified</td>\n",
       "      <td>Deidentified</td>\n",
       "      <td>Deidentified</td>\n",
       "      <td>21.0</td>\n",
       "      <td>M</td>\n",
       "      <td>12345678</td>\n",
       "      <td>NaN</td>\n",
       "      <td>9999999999</td>\n",
       "      <td>29-04-2020</td>\n",
       "      <td>Prayagraj</td>\n",
       "      <td>YES</td>\n",
       "      <td>NaN</td>\n",
       "      <td>NaN</td>\n",
       "      <td>NaN</td>\n",
       "      <td>NaN</td>\n",
       "      <td>NaN</td>\n",
       "    </tr>\n",
       "  </tbody>\n",
       "</table>\n",
       "</div>"
      ],
      "text/plain": [
       "   SerialNumber       Tehsil        Block  ... OtherSkills CompanyName Comments\n",
       "0             1  BASTI SADAR  BAHADUR PUR  ...         NaN         NaN      NaN\n",
       "1             2  BASTI SADAR  BAHADUR PUR  ...         NaN         NaN      NaN\n",
       "2             3  BASTI SADAR  Bahadur pur  ...         NaN         NaN      NaN\n",
       "3             4  BASTI SADAR  Bahadur pur  ...         NaN         NaN      NaN\n",
       "4             5  BASTI SADAR  Bahadur pur  ...         NaN         NaN      NaN\n",
       "\n",
       "[5 rows x 19 columns]"
      ]
     },
     "execution_count": 27,
     "metadata": {
      "tags": []
     },
     "output_type": "execute_result"
    }
   ],
   "source": [
    "# Define column names by hand for easier clean up.\n",
    "columnnames=['SerialNumber', 'Tehsil', 'Block',\n",
    "                        'Village', 'FullName', 'FathersFullName',\n",
    "                        'Age', 'Sex', 'PhoneNumber',\n",
    "                        'IDProof', 'IDNumber', 'ArrivalDate',\n",
    "                        'SourceCity', 'SourceCheckup', 'Skill', 'YrsExp',\n",
    "                        'OtherSkills', 'CompanyName', 'Comments']\n",
    "\n",
    "\n",
    "# use pd.read_csv to read the csv. Skip the first row, and use the column names above\n",
    "### FILL CODE HERE\n",
    "\n",
    "df=pd.read_csv('/content/testdata.csv')\n",
    "df_new = df.rename(columns={ '1':'SerialNumber','2':'Tehsil','3':'Block','4':'Village','5':'FullName','6':'FathersFullName','7':'Age','8':'Sex','9':'PhoneNumber','10':'IDProof','11':'IDNumber','12':'ArrivalDate','13':'SourceCity','14':'SourceCheckup','15':'Skill','16':'YrsExp','17':'OtherSkills','18':'CompanyName','19':'Comments'})\n",
    "### look at the dataframe using .head()\n",
    "df_new.head()\n"
   ]
  },
  {
   "cell_type": "code",
   "execution_count": 28,
   "metadata": {
    "colab": {
     "base_uri": "https://localhost:8080/",
     "height": 68
    },
    "colab_type": "code",
    "id": "XP7RI7-3a3xN",
    "outputId": "d5ed5877-fa66-4a7b-dcce-f8f51b0d6391"
   },
   "outputs": [
    {
     "name": "stdout",
     "output_type": "stream",
     "text": [
      "Current Unique values in Sex (and counts):\n",
      "['MALE' 'F' 'M' 'FEMALE' 'पु0' 'म0' 'ड' nan 'म']\n"
     ]
    },
    {
     "data": {
      "text/plain": [
       "8"
      ]
     },
     "execution_count": 28,
     "metadata": {
      "tags": []
     },
     "output_type": "execute_result"
    }
   ],
   "source": [
    "\n",
    "print(\"Current Unique values in Sex (and counts):\")\n",
    "print(df_new.Sex.unique())\n",
    "df_new['Sex'].nunique()\n",
    "\n",
    "\n"
   ]
  },
  {
   "cell_type": "code",
   "execution_count": 0,
   "metadata": {
    "colab": {},
    "colab_type": "code",
    "id": "oTtp56gTezrk"
   },
   "outputs": [],
   "source": [
    "import numpy as np"
   ]
  },
  {
   "cell_type": "markdown",
   "metadata": {
    "colab_type": "text",
    "id": "z5MbmEH6idwD"
   },
   "source": [
    "**CLEANING BAD DATA IN \"SEX\" COLUMN**"
   ]
  },
  {
   "cell_type": "code",
   "execution_count": 30,
   "metadata": {
    "colab": {
     "base_uri": "https://localhost:8080/",
     "height": 521
    },
    "colab_type": "code",
    "id": "RPftp1Kxbh-e",
    "outputId": "e029daaa-a14f-4a77-f8cb-fd7b2a868caa"
   },
   "outputs": [
    {
     "name": "stdout",
     "output_type": "stream",
     "text": [
      "Updated unique values in Sex:\n",
      "M    662\n",
      "F     45\n",
      "U      2\n",
      "Name: Sex, dtype: int64\n"
     ]
    },
    {
     "data": {
      "text/plain": [
       "Text(0.5, 1.02, 'sex variation')"
      ]
     },
     "execution_count": 30,
     "metadata": {
      "tags": []
     },
     "output_type": "execute_result"
    },
    {
     "data": {
      "image/png": "[encoded data removed]",
      "text/plain": [
       "<Figure size 576x432 with 1 Axes>"
      ]
     },
     "metadata": {
      "needs_background": "light",
      "tags": []
     },
     "output_type": "display_data"
    }
   ],
   "source": [
    "ds = df_new.copy() # Make changes in a new dataframe\n",
    "\n",
    "# Replace bad values in Sex using the following table\n",
    "# \"MALE\" -> \"M\"\n",
    "# \"FEMALE\" -> \"F\"\n",
    "# \"पु0\" -> \"M\"\n",
    "# \"म0\" -> \"F\"\n",
    "# \"म\" -> \"F\"\n",
    "# # Replace bad values, nans or Unknown values with Unknown -> U\n",
    "# nan -> \"U\"\n",
    "# \"ड\" -> \"U\"\n",
    "\n",
    "\n",
    "\n",
    "\n",
    "print(\"Updated unique values in Sex:\")\n",
    "### FILL CODE HERE\n",
    "\n",
    "\n",
    "ds.replace([\"MALE\",\"पु0\",\"M\"], \"M\",inplace=True) \n",
    "ds.replace([\"FEMALE\", \"म0\",\"म\"],\"F\",inplace=True) \n",
    "ds.replace([\"nan\",\"ड\"], \"U\",inplace=True)\n",
    "print(ds.Sex.value_counts())\n",
    "ds['Sex'].value_counts().plot(kind='bar',figsize=(8, 6))  \n",
    "plt.xlabel(\"Sex\", labelpad=14)\n",
    "plt.ylabel(\"counts\", labelpad=14)\n",
    "plt.title(\"sex variation\", y=1.02)\n",
    "  "
   ]
  },
  {
   "cell_type": "markdown",
   "metadata": {
    "colab_type": "text",
    "id": "SoZMdzbtb8tQ"
   },
   "source": [
    "**Step 7: Lets look at data and see what else can we fix**"
   ]
  },
  {
   "cell_type": "code",
   "execution_count": 31,
   "metadata": {
    "colab": {
     "base_uri": "https://localhost:8080/",
     "height": 309
    },
    "colab_type": "code",
    "id": "jcYOGT54b_8q",
    "outputId": "8686db7a-1ae4-4a06-fc6f-ffe2d7be1026"
   },
   "outputs": [
    {
     "data": {
      "text/html": [
       "<div>\n",
       "<style scoped>\n",
       "    .dataframe tbody tr th:only-of-type {\n",
       "        vertical-align: middle;\n",
       "    }\n",
       "\n",
       "    .dataframe tbody tr th {\n",
       "        vertical-align: top;\n",
       "    }\n",
       "\n",
       "    .dataframe thead th {\n",
       "        text-align: right;\n",
       "    }\n",
       "</style>\n",
       "<table border=\"1\" class=\"dataframe\">\n",
       "  <thead>\n",
       "    <tr style=\"text-align: right;\">\n",
       "      <th></th>\n",
       "      <th>SerialNumber</th>\n",
       "      <th>Tehsil</th>\n",
       "      <th>Block</th>\n",
       "      <th>Village</th>\n",
       "      <th>FullName</th>\n",
       "      <th>FathersFullName</th>\n",
       "      <th>Age</th>\n",
       "      <th>Sex</th>\n",
       "      <th>PhoneNumber</th>\n",
       "      <th>IDProof</th>\n",
       "      <th>IDNumber</th>\n",
       "      <th>ArrivalDate</th>\n",
       "      <th>SourceCity</th>\n",
       "      <th>SourceCheckup</th>\n",
       "      <th>Skill</th>\n",
       "      <th>YrsExp</th>\n",
       "      <th>OtherSkills</th>\n",
       "      <th>CompanyName</th>\n",
       "      <th>Comments</th>\n",
       "    </tr>\n",
       "  </thead>\n",
       "  <tbody>\n",
       "    <tr>\n",
       "      <th>0</th>\n",
       "      <td>1</td>\n",
       "      <td>BASTI SADAR</td>\n",
       "      <td>BAHADUR PUR</td>\n",
       "      <td>Deidentified</td>\n",
       "      <td>Deidentified</td>\n",
       "      <td>Deidentified</td>\n",
       "      <td>15.0</td>\n",
       "      <td>M</td>\n",
       "      <td>12345678</td>\n",
       "      <td>ADHAR</td>\n",
       "      <td>9999999999</td>\n",
       "      <td>09-05-2020</td>\n",
       "      <td>MUMBAI</td>\n",
       "      <td>YES</td>\n",
       "      <td>LABOUR</td>\n",
       "      <td>7 MONTH</td>\n",
       "      <td>NaN</td>\n",
       "      <td>NaN</td>\n",
       "      <td>NaN</td>\n",
       "    </tr>\n",
       "    <tr>\n",
       "      <th>1</th>\n",
       "      <td>2</td>\n",
       "      <td>BASTI SADAR</td>\n",
       "      <td>BAHADUR PUR</td>\n",
       "      <td>Deidentified</td>\n",
       "      <td>Deidentified</td>\n",
       "      <td>Deidentified</td>\n",
       "      <td>22.0</td>\n",
       "      <td>M</td>\n",
       "      <td>12345678</td>\n",
       "      <td>ADHAR</td>\n",
       "      <td>9999999999</td>\n",
       "      <td>09-05-2020</td>\n",
       "      <td>MUMBAI</td>\n",
       "      <td>YES</td>\n",
       "      <td>LABOUR</td>\n",
       "      <td>5 MONTHS</td>\n",
       "      <td>NaN</td>\n",
       "      <td>NaN</td>\n",
       "      <td>NaN</td>\n",
       "    </tr>\n",
       "    <tr>\n",
       "      <th>2</th>\n",
       "      <td>3</td>\n",
       "      <td>BASTI SADAR</td>\n",
       "      <td>Bahadur pur</td>\n",
       "      <td>Deidentified</td>\n",
       "      <td>Deidentified</td>\n",
       "      <td>Deidentified</td>\n",
       "      <td>20.0</td>\n",
       "      <td>F</td>\n",
       "      <td>12345678</td>\n",
       "      <td>NaN</td>\n",
       "      <td>9999999999</td>\n",
       "      <td>29-04-2020</td>\n",
       "      <td>Prayagraj</td>\n",
       "      <td>YES</td>\n",
       "      <td>NaN</td>\n",
       "      <td>NaN</td>\n",
       "      <td>NaN</td>\n",
       "      <td>NaN</td>\n",
       "      <td>NaN</td>\n",
       "    </tr>\n",
       "    <tr>\n",
       "      <th>3</th>\n",
       "      <td>4</td>\n",
       "      <td>BASTI SADAR</td>\n",
       "      <td>Bahadur pur</td>\n",
       "      <td>Deidentified</td>\n",
       "      <td>Deidentified</td>\n",
       "      <td>Deidentified</td>\n",
       "      <td>21.0</td>\n",
       "      <td>M</td>\n",
       "      <td>12345678</td>\n",
       "      <td>NaN</td>\n",
       "      <td>9999999999</td>\n",
       "      <td>29-04-2020</td>\n",
       "      <td>Prayagraj</td>\n",
       "      <td>YES</td>\n",
       "      <td>NaN</td>\n",
       "      <td>NaN</td>\n",
       "      <td>NaN</td>\n",
       "      <td>NaN</td>\n",
       "      <td>NaN</td>\n",
       "    </tr>\n",
       "    <tr>\n",
       "      <th>4</th>\n",
       "      <td>5</td>\n",
       "      <td>BASTI SADAR</td>\n",
       "      <td>Bahadur pur</td>\n",
       "      <td>Deidentified</td>\n",
       "      <td>Deidentified</td>\n",
       "      <td>Deidentified</td>\n",
       "      <td>21.0</td>\n",
       "      <td>M</td>\n",
       "      <td>12345678</td>\n",
       "      <td>NaN</td>\n",
       "      <td>9999999999</td>\n",
       "      <td>29-04-2020</td>\n",
       "      <td>Prayagraj</td>\n",
       "      <td>YES</td>\n",
       "      <td>NaN</td>\n",
       "      <td>NaN</td>\n",
       "      <td>NaN</td>\n",
       "      <td>NaN</td>\n",
       "      <td>NaN</td>\n",
       "    </tr>\n",
       "  </tbody>\n",
       "</table>\n",
       "</div>"
      ],
      "text/plain": [
       "   SerialNumber       Tehsil        Block  ... OtherSkills CompanyName Comments\n",
       "0             1  BASTI SADAR  BAHADUR PUR  ...         NaN         NaN      NaN\n",
       "1             2  BASTI SADAR  BAHADUR PUR  ...         NaN         NaN      NaN\n",
       "2             3  BASTI SADAR  Bahadur pur  ...         NaN         NaN      NaN\n",
       "3             4  BASTI SADAR  Bahadur pur  ...         NaN         NaN      NaN\n",
       "4             5  BASTI SADAR  Bahadur pur  ...         NaN         NaN      NaN\n",
       "\n",
       "[5 rows x 19 columns]"
      ]
     },
     "execution_count": 31,
     "metadata": {
      "tags": []
     },
     "output_type": "execute_result"
    }
   ],
   "source": [
    "### use the .head() command to show the table again\n",
    "ds.head()"
   ]
  },
  {
   "cell_type": "markdown",
   "metadata": {
    "colab_type": "text",
    "id": "5_juh6LdjLzt"
   },
   "source": [
    "**CHANGING ALL NAMES TO BAHADURPUR**"
   ]
  },
  {
   "cell_type": "code",
   "execution_count": 32,
   "metadata": {
    "colab": {
     "base_uri": "https://localhost:8080/",
     "height": 306
    },
    "colab_type": "code",
    "id": "eIkqbJy0cU8u",
    "outputId": "3ebe97f3-4d43-4fa8-a889-221902f5ce26"
   },
   "outputs": [
    {
     "name": "stdout",
     "output_type": "stream",
     "text": [
      "Block names before cleaning\n"
     ]
    },
    {
     "data": {
      "text/plain": [
       "BAHADURPUR     447\n",
       "बहादुरपुर       80\n",
       "BHADHUR PUR     69\n",
       "BAHADUR PUR     61\n",
       "BHADHUR         11\n",
       "BHADHURPUR       9\n",
       "BHADURPUR        7\n",
       "Bhadhur pur      6\n",
       "Bahadur pur      5\n",
       "Bhadhurpur       4\n",
       "BAHDURPR         3\n",
       "Bahadur Pur      3\n",
       "Bahdhur          2\n",
       "BAHDURPUR        2\n",
       "Bhadhur          1\n",
       "Name: Block, dtype: int64"
      ]
     },
     "execution_count": 32,
     "metadata": {
      "tags": []
     },
     "output_type": "execute_result"
    }
   ],
   "source": [
    "print(\"Block names before cleaning\")\n",
    "### FILL CODE HERE FOR THE OUTPUT BELOW\n",
    "ds.Block.value_counts()"
   ]
  },
  {
   "cell_type": "code",
   "execution_count": 33,
   "metadata": {
    "colab": {
     "base_uri": "https://localhost:8080/",
     "height": 68
    },
    "colab_type": "code",
    "id": "dfYe8tfmcc1j",
    "outputId": "2d07681e-9b72-4e95-a63e-2dec59a3815e"
   },
   "outputs": [
    {
     "name": "stdout",
     "output_type": "stream",
     "text": [
      "Block names after cleaning:\n"
     ]
    },
    {
     "data": {
      "text/plain": [
       "BAHADURPUR    710\n",
       "Name: Block, dtype: int64"
      ]
     },
     "execution_count": 33,
     "metadata": {
      "tags": []
     },
     "output_type": "execute_result"
    }
   ],
   "source": [
    "### Fill code here to replace all \"Block\" values with \"BAHADURPUR\"\n",
    "print(\"Block names after cleaning:\")\n",
    "ds.replace([\"बहादुरपुर\",\"BHADHUR PUR\",\"BAHADUR PUR\",\"BHADHUR\",\"BHADHURPUR\",\"BHADURPUR\",\"Bhadhur pur\",\"Bahadur pur\",\"Bhadhurpur\",\"Bahadur Pur\",\"BAHDURPR\",\"Bahdhur\",\"BAHDURPUR\",\"Bhadhur\"],\"BAHADURPUR\",inplace=True)\n",
    "\n",
    "### Fill code to show values and counts\n",
    "ds.Block.value_counts()"
   ]
  },
  {
   "cell_type": "markdown",
   "metadata": {
    "colab_type": "text",
    "id": "XzvOuXGvcp0Z"
   },
   "source": [
    "**Let's look at possible city names**"
   ]
  },
  {
   "cell_type": "code",
   "execution_count": 34,
   "metadata": {
    "colab": {
     "base_uri": "https://localhost:8080/",
     "height": 476
    },
    "colab_type": "code",
    "id": "abiKInwRcxZW",
    "outputId": "e85f0396-2434-4adf-f568-264fe5d3c108"
   },
   "outputs": [
    {
     "name": "stdout",
     "output_type": "stream",
     "text": [
      "['MUMBAI' 'Prayagraj' 'DELHI' 'INDORE' 'FARIDABAD' 'HYDRABAD' 'GUJRAT'\n",
      " 'MADHYA PRADESH' 'ANDHRA PRADESH' 'GURGAON' 'AHAMADABAD' 'KANPUR'\n",
      " 'ALIGARH' 'GONDA' nan 'AMRITSAR' 'RAJASTHAN' 'BOMBAY' 'BALLABHGARH'\n",
      " 'NOIDA' 'AHEMADABAD' 'NAGPUR' 'MATHURA' 'AHAMDABAD' 'BHIMANDI' 'THANE'\n",
      " 'PUNE' 'SURAT' 'HAPUR' 'SAHARANPUR' 'HARYANA' 'BHIWNDI' 'AHMEDABAD'\n",
      " 'TELANGANA' 'HARIYANA' 'BHIWANDI' 'JALGAUV' 'RAJSTHAN' 'MAHARASTRA'\n",
      " 'KERALA' 'BRODARA' 'BANGOLORE' 'KERLA' 'MHARSATRA' 'LUCKNOW' 'GUDGAWA'\n",
      " 'NAGH PUR' 'MHARASTRA' 'AMDABAD' 'BANGLOR' 'JHASI' 'PUNA' 'SAHARAN PUR'\n",
      " 'HARAYAN' 'CHNADI GHAR' 'GAZIYABAD' 'NASIK' 'VASAI MUMBAI' 'BEGLORE'\n",
      " 'ULWAY MUMBAI' 'मुम्बई' 'मुम्बई भिवडी' 'सूरत' 'हैदराबाद' 'तेलंगाना'\n",
      " 'लुधियाना' 'हापुड' 'मुम्बई मानखुर्द एकतानगर' 'गुजरात गोधरा' 'थाने' 'वसई'\n",
      " 'बसई' 'अन्धेरी बेस्ट' 'पुणे' 'गुजरात' 'केरल' 'MUMBAI CST' 'AHAMADNAGAR'\n",
      " 'BELAUR' 'NIGOJ' 'MMBAI' 'MAHARSHTRA' 'fnYyh' 'Fkkus' 'eqEcbZ' 'POONA'\n",
      " 'MUMABAI' 'HENFRABAD' 'HAIDRABAD' 'BANGLORE' 'RAJESTHA' 'SOLAPUR' 'AGRA'\n",
      " 'JAMMU' 'GUJRAAT' 'BEGOLOR' 'AGARA' 'AHMADABAD' 'कानपुर' 'अहमदाबाद']\n",
      "MUMBAI       226\n",
      "मुम्बई        64\n",
      "GUJRAT        41\n",
      "DELHI         37\n",
      "Prayagraj     22\n",
      "            ... \n",
      "BELAUR         1\n",
      "MHARSATRA      1\n",
      "HARAYAN        1\n",
      "MUMABAI        1\n",
      "JAMMU          1\n",
      "Name: SourceCity, Length: 99, dtype: int64\n"
     ]
    }
   ],
   "source": [
    "### Fill code here to print all city names\n",
    "col_values=ds['SourceCity'].values.ravel()\n",
    "value=pd.unique(col_values)\n",
    "print(value) \n",
    "print(ds['SourceCity'].value_counts())\n"
   ]
  },
  {
   "cell_type": "markdown",
   "metadata": {
    "colab_type": "text",
    "id": "P1_WhA_Qna74"
   },
   "source": [
    "# **CHALLENGE 1**"
   ]
  },
  {
   "cell_type": "markdown",
   "metadata": {
    "colab_type": "text",
    "id": "330SEQQ4jpYD"
   },
   "source": [
    "**FIXING CITY NAMES**"
   ]
  },
  {
   "cell_type": "code",
   "execution_count": 35,
   "metadata": {
    "colab": {
     "base_uri": "https://localhost:8080/",
     "height": 1000
    },
    "colab_type": "code",
    "id": "WEZ0c_QSegLQ",
    "outputId": "b62fd86c-29d8-433b-97bf-e73645ac273c"
   },
   "outputs": [
    {
     "name": "stdout",
     "output_type": "stream",
     "text": [
      "Mumbai                 329\n",
      "Gujarat                 45\n",
      "Delhi                   37\n",
      "Ahmedabad               29\n",
      "Bhiwandi                24\n",
      "Prayagraj               22\n",
      "Ballabhgarh             16\n",
      "Rajasthan               14\n",
      "Kerela                  13\n",
      "Pune                    12\n",
      "Hyderabad               12\n",
      "Agra                    10\n",
      "Bangalore               10\n",
      "Maharashtra              9\n",
      "Telangana                9\n",
      "Surat                    9\n",
      "unknown                  8\n",
      "Kanpur                   8\n",
      "Vasai                    7\n",
      "Haryana                  6\n",
      "HARIYANA                 6\n",
      "Nagpur                   6\n",
      "MAHARSHTRA               4\n",
      "Thane                    4\n",
      "Gurugram                 4\n",
      "Andra Pradesh            4\n",
      "Ludhiana                 4\n",
      "Gonda                    4\n",
      "Solapur                  4\n",
      "Saharanpur               4\n",
      "Faridabad                4\n",
      "Madhya Pradesh           3\n",
      "Jhansi                   2\n",
      "Ekta Nagar Mankhurd      2\n",
      "Aligarh                  2\n",
      "Nashik                   2\n",
      "Amritsar                 2\n",
      "Hapur                    2\n",
      "Chandigarh               1\n",
      "Indore                   1\n",
      "Noida                    1\n",
      "Ulwe Mumbai              1\n",
      "Jalgaon                  1\n",
      "Baroda                   1\n",
      "Nighoj                   1\n",
      "Godhra                   1\n",
      "Mathura                  1\n",
      "Ghaziabad                1\n",
      "Belaur                   1\n",
      "Lucknow                  1\n",
      "Jammu                    1\n",
      "Andheri                  1\n",
      "Name: SourceCity, dtype: int64\n"
     ]
    },
    {
     "data": {
      "image/png": "[encoded data removed]",
      "text/plain": [
       "<Figure size 1080x1440 with 1 Axes>"
      ]
     },
     "metadata": {
      "needs_background": "light",
      "tags": []
     },
     "output_type": "display_data"
    }
   ],
   "source": [
    "### Option 1: Add code (or code cells) here to replace city names manually.\n",
    "### Option 2: (Preferred) Add code (or code cells) here to upload file cityreplacement.csv \n",
    "### and clean city names using code\n",
    "ds.replace([\"HAIDRABAD\",\" Hyderabad\",\"HYDRABAD\",\"हैदराबाद\",\"HENFRABAD\"],\"Hyderabad\",inplace=True)\n",
    "ds.replace([\"MUMBAI\",\"मुम्बई\",\"MUMBAI CST\",\"MMBAI\",\"MUMABAI\",\"BOMBAY\"],\"Mumbai\",inplace=True)\n",
    "ds.replace([\"DELHI\"],\"Delhi\",inplace=True)\n",
    "ds.replace([\"INDORE\"],\"Indore\",inplace=True)\n",
    "ds.replace([\"FARIDABAD\"],\"Faridabad\",inplace=True)\n",
    "ds.replace([\"GUJRAT\",\"गुजरात\",\"GUJRAAT\"],\"Gujarat\",inplace=True)\n",
    "ds.replace([\"MADHYA PRADESH\"],\"Madhya Pradesh\",inplace=True)\n",
    "ds.replace([\"ANDHRA PRADESH\"],\"Andra Pradesh\",inplace=True)\n",
    "ds.replace([\"BANGLORE\",\"BANGOLORE\",\"BANGLOR\",\"BEGLORE\",\"BANGLORE\",\"BEGOLOR\"],\"Bangalore\",inplace=True)\n",
    "ds.replace([\"AHAMADABAD\",\"AHEMADABAD\",\"AHAMDABAD\",\"AHMEDABAD\",\"AMDABAD\",\"AHMADABAD\",\"अहमदाबाद\",\"AHAMADNAGAR\"],\"Ahmedabad\",inplace=True)\n",
    "ds.replace([\"KANPUR\",\"कानपुर\"],\"Kanpur\",inplace=True)\n",
    "ds.replace([\"GURGAON\",\"GUDGAWA\"],\"Gurugram\",inplace=True)\n",
    "ds.replace([\"RAJASTHAN\",\"RAJSTHAN\",\"RAJESTHA\"],\"Rajasthan\",inplace=True)\n",
    "ds.replace([\"AGARA\",\"AGRA\"],\"Agra\",inplace=True)\n",
    "ds.replace([\"POONA\",\"पुणे\",\"PUNA\",\"PUNE\"],\"Pune\",inplace=True)\n",
    "ds.replace([\"JAMMU\"],\"Jammu\",inplace=True)\n",
    "ds.replace([\"fnYyh\",\"Fkkus\",\"eqEcbZ\",\"nan\"],\"unknown\",inplace=True)\n",
    "ds.replace([\"NIGOJ\"],\"Nighoj\",inplace=True)\n",
    "ds.replace([\"केरल\",\"KERALA\",\"KERLA\"],\"Kerela\",inplace=True)\n",
    "ds.replace([\"VASAI MUMBAI\",\"वसई\",\"बसई\"],\"Vasai\",inplace=True)\n",
    "ds.replace([\"BELAUR\"],\"Belaur\",inplace=True)\n",
    "ds.replace([\"SAHARANPUR\",\"SAHARAN PUR\"],\"Saharanpur\",inplace=True)\n",
    "ds.replace([\"अन्धेरी बेस्ट\"],\"Andheri\",inplace=True)\n",
    "ds.replace([\"थाने\",\"THANE\"],\"Thane\",inplace=True)\n",
    "ds.replace([\"हापुड\",\"HAPUR\"],\"Hapur\",inplace=True)\n",
    "ds.replace([\"लुधियाना\"],\"Ludhiana\",inplace=True)\n",
    "ds.replace([\"तेलंगाना\",\"TELANGANA\"],\"Telangana\",inplace=True)\n",
    "ds.replace([\"सूरत\",\"SURAT\"],\"Surat\",inplace=True)\n",
    "ds.replace([\"NASIK\"],\"Nashik\",inplace=True)\n",
    "ds.replace([\"GAZIYABAD\"],\"Ghaziabad\",inplace=True)\n",
    "ds.replace([\"CHNADI GHAR\"],\"Chandigarh\",inplace=True)\n",
    "ds.replace([\"HARAYAN\",\"HARYANA\"],\"Haryana\",inplace=True)\n",
    "ds.replace([\"JHASI\"],\"Jhansi\",inplace=True)\n",
    "ds.replace([\"NAGH PUR\",\"NAGPUR\"],\"Nagpur\",inplace=True)\n",
    "ds.replace([\"LUCKNOW\"],\"Lucknow\",inplace=True)\n",
    "ds.replace([\"BRODARA\"],\"Baroda\",inplace=True)\n",
    "ds.replace([\"JALGAUV\"],\"Jalgaon\",inplace=True)\n",
    "ds.replace([\"BHIWANDI\",\"BHIWNDI\",\"BHIMANDI\",\"मुम्बई भिवडी\"],\"Bhiwandi\",inplace=True)\n",
    "ds.replace([\"MATHURA\"],\"Mathura\",inplace=True)\n",
    "ds.replace([\"NOIDA\"],\"Noida\",inplace=True)\n",
    "ds.replace([\"BALLABHGARH\"],\"Ballabhgarh\",inplace=True)\n",
    "ds.replace([\"AMRITSAR\"],\"Amritsar\",inplace=True)\n",
    "ds.replace([\"GONDA\"],\"Gonda\",inplace=True)\n",
    "ds.replace([\"ALIGARH\"],\"Aligarh\",inplace=True)\n",
    "ds.replace([\"मुम्बई मानखुर्द एकतानगर\"],\"Ekta Nagar Mankhurd\",inplace=True)\n",
    "ds.replace([\"ULWAY MUMBAI\"],\"Ulwe Mumbai\",inplace=True)\n",
    "ds.replace([\"MAHARASTRA\",\"MHARSATRA\",\"MHARASTRA\"],\"Maharashtra\",inplace=True)\n",
    "ds.replace([\"गुजरात गोधरा\"],\"Godhra\",inplace=True)\n",
    "ds.replace([\"SOLAPUR\"],\"Solapur\",inplace=True)\n",
    "\n",
    "print(ds.SourceCity.value_counts())\n",
    "ds['SourceCity'].value_counts().plot(kind='barh', figsize=(15, 20))\n",
    "plt.xlabel(\"variation\", labelpad=14)\n",
    "plt.ylabel(\"City names\", labelpad=14)\n",
    "plt.title(\"variation in sourcecity\", y=1.02);\n",
    "\n"
   ]
  },
  {
   "cell_type": "markdown",
   "metadata": {
    "colab_type": "text",
    "id": "g7qlKn2lk4Dg"
   },
   "source": [
    "## **CHALLENGE 2**"
   ]
  },
  {
   "cell_type": "markdown",
   "metadata": {
    "colab_type": "text",
    "id": "p1g888_DhYuJ"
   },
   "source": [
    "**CLEANING OF \"YRSEXP\" COLUMN WITH HELP OF REGULAR EXPRESSION**\n"
   ]
  },
  {
   "cell_type": "code",
   "execution_count": 36,
   "metadata": {
    "colab": {
     "base_uri": "https://localhost:8080/",
     "height": 221
    },
    "colab_type": "code",
    "id": "WZOjkp1NfcPB",
    "outputId": "d6498a81-c921-4f84-d1f5-18bcb57fc9b0"
   },
   "outputs": [
    {
     "data": {
      "text/plain": [
       "0      0\n",
       "1      0\n",
       "2      0\n",
       "3      0\n",
       "4      0\n",
       "      ..\n",
       "705    0\n",
       "706    0\n",
       "707    0\n",
       "708    0\n",
       "709    0\n",
       "Name: YrsExp, Length: 710, dtype: int64"
      ]
     },
     "execution_count": 36,
     "metadata": {
      "tags": []
     },
     "output_type": "execute_result"
    }
   ],
   "source": [
    "\n",
    "\n",
    "#ds['YrsExp'\n",
    "ds.replace([\"nan\"],\"unknown\",inplace=True)\n",
    "ds.replace([\"7 MONTH\",\"5 MONTHS\",\"6 MONTHS\",\"2 MONTHS\",\"7 MONTHS\",\"4 MONTHS\",\"06 MONTHS\",\"04 MONTHS\",\"03 MONTHS\",\"02 MONTHS\",\"3 MOTH\",\"5 MONTH\",\"6 Month\",\"2 MONTH\",\"3 MONTH\",\"11 MONTHS\",\"6 MONTH\",\"8 MONTH\",\"4 MONTH\",\"3 माह\",\"2 माह\",\"6माह\",\"3माह\",\"8 माह\",\"5 माह\",\"6 माह\",\"4माह\",\"5माह\",\"2MONTHS\",\"6MONTH\",\"8 MONTHS\",\"6 MTH\"],\"1\",inplace=True)\n",
    "\n",
    "ds['YrsExp'].replace(regex=True, inplace=True, to_replace=r'[^0-9.\\-]', value=r'')\n",
    "ds['YrsExp'] = ds['YrsExp'].astype('float64')\n",
    "#for value in ds['YrsExp']:\n",
    "#ds['YrsExp']\n",
    "\n",
    "ds['YrsExp']\n",
    "result=[]\n",
    "for value in ds['YrsExp']:\n",
    "  \n",
    "  if value > 10:\n",
    "    result.append(10)\n",
    "  else:\n",
    "    result.append(0)\n",
    "ds['YrsExp']=result\n",
    "ds['YrsExp']\n",
    "\n"
   ]
  },
  {
   "cell_type": "markdown",
   "metadata": {
    "colab_type": "text",
    "id": "1Plnfja7lLDM"
   },
   "source": [
    "# **CHALLENGE 3** "
   ]
  },
  {
   "cell_type": "code",
   "execution_count": 38,
   "metadata": {
    "colab": {
     "base_uri": "https://localhost:8080/",
     "height": 105
    },
    "colab_type": "code",
    "id": "jzOX2C8rzIda",
    "outputId": "ca46ac58-2279-461e-cb89-94adc40e1725"
   },
   "outputs": [
    {
     "name": "stdout",
     "output_type": "stream",
     "text": [
      "Collecting fuzzywuzzy\n",
      "  Downloading https://files.pythonhosted.org/packages/43/ff/74f23998ad2f93b945c0309f825be92e04e0348e062026998b5eefef4c33/fuzzywuzzy-0.18.0-py2.py3-none-any.whl\n",
      "Installing collected packages: fuzzywuzzy\n",
      "Successfully installed fuzzywuzzy-0.18.0\n"
     ]
    }
   ],
   "source": [
    "pip install fuzzywuzzy"
   ]
  },
  {
   "cell_type": "markdown",
   "metadata": {
    "colab_type": "text",
    "id": "v5lJ12oglYNz"
   },
   "source": [
    "**IMPORTING FUZZYWUZZY LIBRARY FOR STRING MATCHING**"
   ]
  },
  {
   "cell_type": "code",
   "execution_count": 39,
   "metadata": {
    "colab": {
     "base_uri": "https://localhost:8080/",
     "height": 71
    },
    "colab_type": "code",
    "id": "-G6-Os-eydW7",
    "outputId": "dbd18a81-7c9e-4407-df0c-7e37250e34cb"
   },
   "outputs": [
    {
     "name": "stderr",
     "output_type": "stream",
     "text": [
      "/usr/local/lib/python3.6/dist-packages/fuzzywuzzy/fuzz.py:11: UserWarning: Using slow pure-python SequenceMatcher. Install python-Levenshtein to remove this warning\n",
      "  warnings.warn('Using slow pure-python SequenceMatcher. Install python-Levenshtein to remove this warning')\n"
     ]
    }
   ],
   "source": [
    "from fuzzywuzzy import fuzz\n",
    "from fuzzywuzzy import process"
   ]
  },
  {
   "cell_type": "code",
   "execution_count": 0,
   "metadata": {
    "colab": {},
    "colab_type": "code",
    "id": "zxyCwbm6zPlb"
   },
   "outputs": [],
   "source": [
    "def checker(wrong_options,correct_options):\n",
    "    names_array=[]\n",
    "    ratio_array=[]    \n",
    "    for wrong_option in wrong_options:\n",
    "        if wrong_option in correct_options:\n",
    "           names_array.append(wrong_option)\n",
    "           ratio_array.append('100')\n",
    "        else:   \n",
    "            x=process.extractOne(wrong_option,correct_options,scorer=fuzz.token_set_ratio)\n",
    "            names_array.append(x[0])\n",
    "            ratio_array.append(x[1])\n",
    "    return names_array,ratio_array"
   ]
  },
  {
   "cell_type": "code",
   "execution_count": 0,
   "metadata": {
    "colab": {},
    "colab_type": "code",
    "id": "lNfsG0b74Usn"
   },
   "outputs": [],
   "source": [
    "df_Original_List=pd.read_csv(\"/content/cityreplacements.csv\",usecols=[\"Current Value\"])\n",
    "df_To_beMatched=pd.read_csv(\"/content/cityreplacements.csv\",usecols=[\"New Value\"])"
   ]
  },
  {
   "cell_type": "code",
   "execution_count": 0,
   "metadata": {
    "colab": {},
    "colab_type": "code",
    "id": "PzCVtJ1v5i-v"
   },
   "outputs": [],
   "source": [
    "str2Match = df_To_beMatched['New Value'].fillna('######').tolist()\n",
    "strOptions =df_Original_List['Current Value'].fillna('######').tolist()"
   ]
  },
  {
   "cell_type": "code",
   "execution_count": 0,
   "metadata": {
    "colab": {},
    "colab_type": "code",
    "id": "63ymhfn555mi"
   },
   "outputs": [],
   "source": [
    "name_match,ratio_match=checker(str2Match,strOptions)\n",
    "df1 = pd.DataFrame()\n",
    "df1['String1']=pd.Series(str2Match)\n",
    "df1['String2']=pd.Series(name_match)\n",
    "df1['match_ratio']=pd.Series(ratio_match)\n",
    "df1.to_csv('matched_names.csv')"
   ]
  },
  {
   "cell_type": "markdown",
   "metadata": {
    "colab_type": "text",
    "id": "yEE6KDdXnH6k"
   },
   "source": [
    "**RESULT OF CHALLENGE 3**"
   ]
  },
  {
   "cell_type": "code",
   "execution_count": 44,
   "metadata": {
    "colab": {
     "base_uri": "https://localhost:8080/",
     "height": 669
    },
    "colab_type": "code",
    "id": "umdp_Xpf618N",
    "outputId": "10e0e56f-f8f5-496d-dc81-d3e87808f686"
   },
   "outputs": [
    {
     "data": {
      "text/html": [
       "<div>\n",
       "<style scoped>\n",
       "    .dataframe tbody tr th:only-of-type {\n",
       "        vertical-align: middle;\n",
       "    }\n",
       "\n",
       "    .dataframe tbody tr th {\n",
       "        vertical-align: top;\n",
       "    }\n",
       "\n",
       "    .dataframe thead th {\n",
       "        text-align: right;\n",
       "    }\n",
       "</style>\n",
       "<table border=\"1\" class=\"dataframe\">\n",
       "  <thead>\n",
       "    <tr style=\"text-align: right;\">\n",
       "      <th></th>\n",
       "      <th>String1</th>\n",
       "      <th>String2</th>\n",
       "      <th>match_ratio</th>\n",
       "    </tr>\n",
       "  </thead>\n",
       "  <tbody>\n",
       "    <tr>\n",
       "      <th>0</th>\n",
       "      <td>Mumbai</td>\n",
       "      <td>MUMBAI</td>\n",
       "      <td>100</td>\n",
       "    </tr>\n",
       "    <tr>\n",
       "      <th>1</th>\n",
       "      <td>Prayagraj</td>\n",
       "      <td>Prayagraj</td>\n",
       "      <td>100</td>\n",
       "    </tr>\n",
       "    <tr>\n",
       "      <th>2</th>\n",
       "      <td>Delhi</td>\n",
       "      <td>DELHI</td>\n",
       "      <td>100</td>\n",
       "    </tr>\n",
       "    <tr>\n",
       "      <th>3</th>\n",
       "      <td>Indore</td>\n",
       "      <td>INDORE</td>\n",
       "      <td>100</td>\n",
       "    </tr>\n",
       "    <tr>\n",
       "      <th>4</th>\n",
       "      <td>Faridabad</td>\n",
       "      <td>FARIDABAD</td>\n",
       "      <td>100</td>\n",
       "    </tr>\n",
       "    <tr>\n",
       "      <th>5</th>\n",
       "      <td>Hyderabad</td>\n",
       "      <td>HYDRABAD</td>\n",
       "      <td>94</td>\n",
       "    </tr>\n",
       "    <tr>\n",
       "      <th>6</th>\n",
       "      <td>Gujarat</td>\n",
       "      <td>GUJRAT</td>\n",
       "      <td>92</td>\n",
       "    </tr>\n",
       "    <tr>\n",
       "      <th>7</th>\n",
       "      <td>Madhya Pradesh</td>\n",
       "      <td>MADHYA PRADESH</td>\n",
       "      <td>100</td>\n",
       "    </tr>\n",
       "    <tr>\n",
       "      <th>8</th>\n",
       "      <td>Andhra Pradesh</td>\n",
       "      <td>ANDHRA PRADESH</td>\n",
       "      <td>100</td>\n",
       "    </tr>\n",
       "    <tr>\n",
       "      <th>9</th>\n",
       "      <td>Gurugram</td>\n",
       "      <td>GURGAON</td>\n",
       "      <td>67</td>\n",
       "    </tr>\n",
       "    <tr>\n",
       "      <th>10</th>\n",
       "      <td>Ahmedabad</td>\n",
       "      <td>AHMEDABAD</td>\n",
       "      <td>100</td>\n",
       "    </tr>\n",
       "    <tr>\n",
       "      <th>11</th>\n",
       "      <td>Kanpur</td>\n",
       "      <td>KANPUR</td>\n",
       "      <td>100</td>\n",
       "    </tr>\n",
       "    <tr>\n",
       "      <th>12</th>\n",
       "      <td>Aligarh</td>\n",
       "      <td>ALIGARH</td>\n",
       "      <td>100</td>\n",
       "    </tr>\n",
       "    <tr>\n",
       "      <th>13</th>\n",
       "      <td>Gonda</td>\n",
       "      <td>GONDA</td>\n",
       "      <td>100</td>\n",
       "    </tr>\n",
       "    <tr>\n",
       "      <th>14</th>\n",
       "      <td>unknown</td>\n",
       "      <td>LUCKNOW</td>\n",
       "      <td>71</td>\n",
       "    </tr>\n",
       "    <tr>\n",
       "      <th>15</th>\n",
       "      <td>Amritsar</td>\n",
       "      <td>AMRITSAR</td>\n",
       "      <td>100</td>\n",
       "    </tr>\n",
       "    <tr>\n",
       "      <th>16</th>\n",
       "      <td>Rajasthan</td>\n",
       "      <td>RAJASTHAN</td>\n",
       "      <td>100</td>\n",
       "    </tr>\n",
       "    <tr>\n",
       "      <th>17</th>\n",
       "      <td>Mumbai</td>\n",
       "      <td>MUMBAI</td>\n",
       "      <td>100</td>\n",
       "    </tr>\n",
       "    <tr>\n",
       "      <th>18</th>\n",
       "      <td>Ballabhgarh</td>\n",
       "      <td>BALLABHGARH</td>\n",
       "      <td>100</td>\n",
       "    </tr>\n",
       "    <tr>\n",
       "      <th>19</th>\n",
       "      <td>Noida</td>\n",
       "      <td>NOIDA</td>\n",
       "      <td>100</td>\n",
       "    </tr>\n",
       "  </tbody>\n",
       "</table>\n",
       "</div>"
      ],
      "text/plain": [
       "           String1         String2 match_ratio\n",
       "0           Mumbai          MUMBAI         100\n",
       "1        Prayagraj       Prayagraj         100\n",
       "2            Delhi           DELHI         100\n",
       "3           Indore          INDORE         100\n",
       "4        Faridabad       FARIDABAD         100\n",
       "5        Hyderabad        HYDRABAD          94\n",
       "6          Gujarat          GUJRAT          92\n",
       "7   Madhya Pradesh  MADHYA PRADESH         100\n",
       "8   Andhra Pradesh  ANDHRA PRADESH         100\n",
       "9         Gurugram         GURGAON          67\n",
       "10       Ahmedabad       AHMEDABAD         100\n",
       "11          Kanpur          KANPUR         100\n",
       "12         Aligarh         ALIGARH         100\n",
       "13           Gonda           GONDA         100\n",
       "14         unknown         LUCKNOW          71\n",
       "15        Amritsar        AMRITSAR         100\n",
       "16       Rajasthan       RAJASTHAN         100\n",
       "17          Mumbai          MUMBAI         100\n",
       "18     Ballabhgarh     BALLABHGARH         100\n",
       "19           Noida           NOIDA         100"
      ]
     },
     "execution_count": 44,
     "metadata": {
      "tags": []
     },
     "output_type": "execute_result"
    }
   ],
   "source": [
    "df1.head(20)"
   ]
  }
 ],
 "metadata": {
  "colab": {
   "collapsed_sections": [],
   "name": "Copy of AnalyzeChallenge.ipynb",
   "provenance": []
  },
  "kernelspec": {
   "display_name": "Python 3",
   "language": "python",
   "name": "python3"
  },
  "language_info": {
   "codemirror_mode": {
    "name": "ipython",
    "version": 3
   },
   "file_extension": ".py",
   "mimetype": "text/x-python",
   "name": "python",
   "nbconvert_exporter": "python",
   "pygments_lexer": "ipython3",
   "version": "3.7.0"
  }
 },
 "nbformat": 4,
 "nbformat_minor": 1
}
