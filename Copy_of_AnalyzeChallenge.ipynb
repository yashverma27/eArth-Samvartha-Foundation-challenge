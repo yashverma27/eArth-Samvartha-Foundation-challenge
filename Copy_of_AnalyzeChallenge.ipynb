{
  "nbformat": 4,
  "nbformat_minor": 0,
  "metadata": {
    "colab": {
      "name": "Copy of AnalyzeChallenge.ipynb",
      "provenance": [],
      "collapsed_sections": []
    },
    "kernelspec": {
      "name": "python3",
      "display_name": "Python 3"
    }
  },
  "cells": [
    {
      "cell_type": "markdown",
      "metadata": {
        "id": "J2j-bHWWY10J",
        "colab_type": "text"
      },
      "source": [
        "# Analyze  challenge for Samvarta Internship\n",
        "\n",
        "This challenge will take an expert < 2 hours to complete.   \n",
        "If you are new and learning, it may take up to 3 days.   \n",
        "\n",
        "\n",
        "We will load a .csv file, clean it and then process some numbers."
      ]
    },
    {
      "cell_type": "markdown",
      "metadata": {
        "id": "0WiuHKVOZRJv",
        "colab_type": "text"
      },
      "source": [
        "**Step 1: Make a copy of this file in your collab / google drive environment.**   \n",
        "THIS STEP IS IMPORTANT."
      ]
    },
    {
      "cell_type": "markdown",
      "metadata": {
        "id": "2t6_xpb3aag4",
        "colab_type": "text"
      },
      "source": [
        "**Step 2: Import needed modules**"
      ]
    },
    {
      "cell_type": "code",
      "metadata": {
        "id": "stL5VmdCaW4P",
        "colab_type": "code",
        "colab": {}
      },
      "source": [
        "import pandas as pd\n",
        "import matplotlib.pyplot as plt"
      ],
      "execution_count": 0,
      "outputs": []
    },
    {
      "cell_type": "markdown",
      "metadata": {
        "id": "rTLNOFnQZFWi",
        "colab_type": "text"
      },
      "source": [
        "**Step 3: Upload data.**   \n",
        "Please download the the csv file from :    https://samvarta.org/testdata.csv   \n",
        "Then run the cell below.   \n",
        "You have a few seconds to select the file to upload, otherwise the cell will end on its own. Just re-run the cell if that happens.\n"
      ]
    },
    {
      "cell_type": "code",
      "metadata": {
        "id": "N0fEncpLLywv",
        "colab_type": "code",
        "colab": {
          "base_uri": "https://localhost:8080/",
          "height": 122
        },
        "outputId": "cb3b22a1-b68b-459a-bb53-471f013f54e0"
      },
      "source": [
        "from google.colab import drive\n",
        "drive.mount('/content/drive')"
      ],
      "execution_count": 3,
      "outputs": [
        {
          "output_type": "stream",
          "text": [
            "Go to this URL in a browser: https://accounts.google.com/o/oauth2/auth?client_id=947318989803-6bn6qk8qdgf4n4g3pfee6491hc0brc4i.apps.googleusercontent.com&redirect_uri=urn%3aietf%3awg%3aoauth%3a2.0%3aoob&response_type=code&scope=email%20https%3a%2f%2fwww.googleapis.com%2fauth%2fdocs.test%20https%3a%2f%2fwww.googleapis.com%2fauth%2fdrive%20https%3a%2f%2fwww.googleapis.com%2fauth%2fdrive.photos.readonly%20https%3a%2f%2fwww.googleapis.com%2fauth%2fpeopleapi.readonly\n",
            "\n",
            "Enter your authorization code:\n",
            "··········\n",
            "Mounted at /content/drive\n"
          ],
          "name": "stdout"
        }
      ]
    },
    {
      "cell_type": "markdown",
      "metadata": {
        "id": "1aL87xRzakco",
        "colab_type": "text"
      },
      "source": [
        "**Step 4: Read csv file into pandas and look at some values**"
      ]
    },
    {
      "cell_type": "code",
      "metadata": {
        "id": "uNhaz09gYACm",
        "colab_type": "code",
        "outputId": "9c476c1a-87f1-4f39-adfc-9e085346b8aa",
        "colab": {
          "base_uri": "https://localhost:8080/",
          "height": 609
        }
      },
      "source": [
        "# Define column names by hand for easier clean up.\n",
        "columnnames=['SerialNumber', 'Tehsil', 'Block',\n",
        "                        'Village', 'FullName', 'FathersFullName',\n",
        "                        'Age', 'Sex', 'PhoneNumber',\n",
        "                        'IDProof', 'IDNumber', 'ArrivalDate',\n",
        "                        'SourceCity', 'SourceCheckup', 'Skill', 'YrsExp',\n",
        "                        'OtherSkills', 'CompanyName', 'Comments']\n",
        "\n",
        "\n",
        "# use pd.read_csv to read the csv. Skip the first row, and use the column names above\n",
        "### FILL CODE HERE\n",
        "\n",
        "df=pd.read_csv('/content/testdata.csv')\n",
        "df_new = df.rename(columns={ '1':'SerialNumber','2':'Tehsil','3':'Block','4':'Village','5':'FullName','6':'FathersFullName','7':'Age','8':'Sex','9':'PhoneNumber','10':'IDProof','11':'IDNumber','12':'ArrivalDate','13':'SourceCity','14':'SourceCheckup','15':'Skill','16':'YrsExp','17':'OtherSkills','18':'CompanyName','19':'Comments'})\n",
        "\n",
        "### look at the dataframe using .head()\n",
        "df_new.head()\n",
        "df_new"
      ],
      "execution_count": 35,
      "outputs": [
        {
          "output_type": "execute_result",
          "data": {
            "text/html": [
              "<div>\n",
              "<style scoped>\n",
              "    .dataframe tbody tr th:only-of-type {\n",
              "        vertical-align: middle;\n",
              "    }\n",
              "\n",
              "    .dataframe tbody tr th {\n",
              "        vertical-align: top;\n",
              "    }\n",
              "\n",
              "    .dataframe thead th {\n",
              "        text-align: right;\n",
              "    }\n",
              "</style>\n",
              "<table border=\"1\" class=\"dataframe\">\n",
              "  <thead>\n",
              "    <tr style=\"text-align: right;\">\n",
              "      <th></th>\n",
              "      <th>SerialNumber</th>\n",
              "      <th>Tehsil</th>\n",
              "      <th>Block</th>\n",
              "      <th>Village</th>\n",
              "      <th>FullName</th>\n",
              "      <th>FathersFullName</th>\n",
              "      <th>Age</th>\n",
              "      <th>Sex</th>\n",
              "      <th>PhoneNumber</th>\n",
              "      <th>IDProof</th>\n",
              "      <th>IDNumber</th>\n",
              "      <th>ArrivalDate</th>\n",
              "      <th>SourceCity</th>\n",
              "      <th>SourceCheckup</th>\n",
              "      <th>Skill</th>\n",
              "      <th>YrsExp</th>\n",
              "      <th>OtherSkills</th>\n",
              "      <th>CompanyName</th>\n",
              "      <th>Comments</th>\n",
              "    </tr>\n",
              "  </thead>\n",
              "  <tbody>\n",
              "    <tr>\n",
              "      <th>0</th>\n",
              "      <td>1</td>\n",
              "      <td>BASTI SADAR</td>\n",
              "      <td>BAHADUR PUR</td>\n",
              "      <td>Deidentified</td>\n",
              "      <td>Deidentified</td>\n",
              "      <td>Deidentified</td>\n",
              "      <td>15.0</td>\n",
              "      <td>MALE</td>\n",
              "      <td>12345678</td>\n",
              "      <td>ADHAR</td>\n",
              "      <td>9999999999</td>\n",
              "      <td>09-05-2020</td>\n",
              "      <td>MUMBAI</td>\n",
              "      <td>YES</td>\n",
              "      <td>LABOUR</td>\n",
              "      <td>7 MONTH</td>\n",
              "      <td>NaN</td>\n",
              "      <td>NaN</td>\n",
              "      <td>NaN</td>\n",
              "    </tr>\n",
              "    <tr>\n",
              "      <th>1</th>\n",
              "      <td>2</td>\n",
              "      <td>BASTI SADAR</td>\n",
              "      <td>BAHADUR PUR</td>\n",
              "      <td>Deidentified</td>\n",
              "      <td>Deidentified</td>\n",
              "      <td>Deidentified</td>\n",
              "      <td>22.0</td>\n",
              "      <td>MALE</td>\n",
              "      <td>12345678</td>\n",
              "      <td>ADHAR</td>\n",
              "      <td>9999999999</td>\n",
              "      <td>09-05-2020</td>\n",
              "      <td>MUMBAI</td>\n",
              "      <td>YES</td>\n",
              "      <td>LABOUR</td>\n",
              "      <td>5 MONTHS</td>\n",
              "      <td>NaN</td>\n",
              "      <td>NaN</td>\n",
              "      <td>NaN</td>\n",
              "    </tr>\n",
              "    <tr>\n",
              "      <th>2</th>\n",
              "      <td>3</td>\n",
              "      <td>BASTI SADAR</td>\n",
              "      <td>Bahadur pur</td>\n",
              "      <td>Deidentified</td>\n",
              "      <td>Deidentified</td>\n",
              "      <td>Deidentified</td>\n",
              "      <td>20.0</td>\n",
              "      <td>F</td>\n",
              "      <td>12345678</td>\n",
              "      <td>NaN</td>\n",
              "      <td>9999999999</td>\n",
              "      <td>29-04-2020</td>\n",
              "      <td>Prayagraj</td>\n",
              "      <td>YES</td>\n",
              "      <td>NaN</td>\n",
              "      <td>NaN</td>\n",
              "      <td>NaN</td>\n",
              "      <td>NaN</td>\n",
              "      <td>NaN</td>\n",
              "    </tr>\n",
              "    <tr>\n",
              "      <th>3</th>\n",
              "      <td>4</td>\n",
              "      <td>BASTI SADAR</td>\n",
              "      <td>Bahadur pur</td>\n",
              "      <td>Deidentified</td>\n",
              "      <td>Deidentified</td>\n",
              "      <td>Deidentified</td>\n",
              "      <td>21.0</td>\n",
              "      <td>M</td>\n",
              "      <td>12345678</td>\n",
              "      <td>NaN</td>\n",
              "      <td>9999999999</td>\n",
              "      <td>29-04-2020</td>\n",
              "      <td>Prayagraj</td>\n",
              "      <td>YES</td>\n",
              "      <td>NaN</td>\n",
              "      <td>NaN</td>\n",
              "      <td>NaN</td>\n",
              "      <td>NaN</td>\n",
              "      <td>NaN</td>\n",
              "    </tr>\n",
              "    <tr>\n",
              "      <th>4</th>\n",
              "      <td>5</td>\n",
              "      <td>BASTI SADAR</td>\n",
              "      <td>Bahadur pur</td>\n",
              "      <td>Deidentified</td>\n",
              "      <td>Deidentified</td>\n",
              "      <td>Deidentified</td>\n",
              "      <td>21.0</td>\n",
              "      <td>M</td>\n",
              "      <td>12345678</td>\n",
              "      <td>NaN</td>\n",
              "      <td>9999999999</td>\n",
              "      <td>29-04-2020</td>\n",
              "      <td>Prayagraj</td>\n",
              "      <td>YES</td>\n",
              "      <td>NaN</td>\n",
              "      <td>NaN</td>\n",
              "      <td>NaN</td>\n",
              "      <td>NaN</td>\n",
              "      <td>NaN</td>\n",
              "    </tr>\n",
              "    <tr>\n",
              "      <th>...</th>\n",
              "      <td>...</td>\n",
              "      <td>...</td>\n",
              "      <td>...</td>\n",
              "      <td>...</td>\n",
              "      <td>...</td>\n",
              "      <td>...</td>\n",
              "      <td>...</td>\n",
              "      <td>...</td>\n",
              "      <td>...</td>\n",
              "      <td>...</td>\n",
              "      <td>...</td>\n",
              "      <td>...</td>\n",
              "      <td>...</td>\n",
              "      <td>...</td>\n",
              "      <td>...</td>\n",
              "      <td>...</td>\n",
              "      <td>...</td>\n",
              "      <td>...</td>\n",
              "      <td>...</td>\n",
              "    </tr>\n",
              "    <tr>\n",
              "      <th>705</th>\n",
              "      <td>130</td>\n",
              "      <td>BASTI SADAR</td>\n",
              "      <td>BAHADURPUR</td>\n",
              "      <td>Deidentified</td>\n",
              "      <td>Deidentified</td>\n",
              "      <td>Deidentified</td>\n",
              "      <td>32.0</td>\n",
              "      <td>म</td>\n",
              "      <td>12345678</td>\n",
              "      <td>AADHAR</td>\n",
              "      <td>9999999999</td>\n",
              "      <td>05-11-2020</td>\n",
              "      <td>अहमदाबाद</td>\n",
              "      <td>YES</td>\n",
              "      <td>मजदूरी</td>\n",
              "      <td>6 माह</td>\n",
              "      <td>NaN</td>\n",
              "      <td>NaN</td>\n",
              "      <td>NaN</td>\n",
              "    </tr>\n",
              "    <tr>\n",
              "      <th>706</th>\n",
              "      <td>131</td>\n",
              "      <td>BASTI SADAR</td>\n",
              "      <td>BAHADURPUR</td>\n",
              "      <td>Deidentified</td>\n",
              "      <td>Deidentified</td>\n",
              "      <td>Deidentified</td>\n",
              "      <td>18.0</td>\n",
              "      <td>पु0</td>\n",
              "      <td>12345678</td>\n",
              "      <td>AADHAR</td>\n",
              "      <td>9999999999</td>\n",
              "      <td>05-11-2020</td>\n",
              "      <td>अहमदाबाद</td>\n",
              "      <td>YES</td>\n",
              "      <td>मजदूरी</td>\n",
              "      <td>6 माह</td>\n",
              "      <td>NaN</td>\n",
              "      <td>NaN</td>\n",
              "      <td>NaN</td>\n",
              "    </tr>\n",
              "    <tr>\n",
              "      <th>707</th>\n",
              "      <td>132</td>\n",
              "      <td>BASTI SADAR</td>\n",
              "      <td>BAHADURPUR</td>\n",
              "      <td>Deidentified</td>\n",
              "      <td>Deidentified</td>\n",
              "      <td>Deidentified</td>\n",
              "      <td>45.0</td>\n",
              "      <td>पु0</td>\n",
              "      <td>12345678</td>\n",
              "      <td>AADHAR</td>\n",
              "      <td>9999999999</td>\n",
              "      <td>05-11-2020</td>\n",
              "      <td>अहमदाबाद</td>\n",
              "      <td>YES</td>\n",
              "      <td>मजदूरी</td>\n",
              "      <td>6 माह</td>\n",
              "      <td>NaN</td>\n",
              "      <td>NaN</td>\n",
              "      <td>NaN</td>\n",
              "    </tr>\n",
              "    <tr>\n",
              "      <th>708</th>\n",
              "      <td>133</td>\n",
              "      <td>BASTI SADAR</td>\n",
              "      <td>BAHADURPUR</td>\n",
              "      <td>Deidentified</td>\n",
              "      <td>Deidentified</td>\n",
              "      <td>Deidentified</td>\n",
              "      <td>13.0</td>\n",
              "      <td>पु0</td>\n",
              "      <td>12345678</td>\n",
              "      <td>AADHAR</td>\n",
              "      <td>9999999999</td>\n",
              "      <td>05-11-2020</td>\n",
              "      <td>अहमदाबाद</td>\n",
              "      <td>YES</td>\n",
              "      <td>मजदूरी</td>\n",
              "      <td>6 माह</td>\n",
              "      <td>NaN</td>\n",
              "      <td>NaN</td>\n",
              "      <td>NaN</td>\n",
              "    </tr>\n",
              "    <tr>\n",
              "      <th>709</th>\n",
              "      <td>134</td>\n",
              "      <td>BASTI SADAR</td>\n",
              "      <td>BAHADURPUR</td>\n",
              "      <td>Deidentified</td>\n",
              "      <td>Deidentified</td>\n",
              "      <td>Deidentified</td>\n",
              "      <td>27.0</td>\n",
              "      <td>M</td>\n",
              "      <td>12345678</td>\n",
              "      <td>AADHAR</td>\n",
              "      <td>9999999999</td>\n",
              "      <td>11-05-2020</td>\n",
              "      <td>DELHI</td>\n",
              "      <td>YES</td>\n",
              "      <td>MAJDURI</td>\n",
              "      <td>3</td>\n",
              "      <td>NaN</td>\n",
              "      <td>NaN</td>\n",
              "      <td>NaN</td>\n",
              "    </tr>\n",
              "  </tbody>\n",
              "</table>\n",
              "<p>710 rows × 19 columns</p>\n",
              "</div>"
            ],
            "text/plain": [
              "     SerialNumber       Tehsil        Block  ... OtherSkills CompanyName Comments\n",
              "0               1  BASTI SADAR  BAHADUR PUR  ...         NaN         NaN      NaN\n",
              "1               2  BASTI SADAR  BAHADUR PUR  ...         NaN         NaN      NaN\n",
              "2               3  BASTI SADAR  Bahadur pur  ...         NaN         NaN      NaN\n",
              "3               4  BASTI SADAR  Bahadur pur  ...         NaN         NaN      NaN\n",
              "4               5  BASTI SADAR  Bahadur pur  ...         NaN         NaN      NaN\n",
              "..            ...          ...          ...  ...         ...         ...      ...\n",
              "705           130  BASTI SADAR   BAHADURPUR  ...         NaN         NaN      NaN\n",
              "706           131  BASTI SADAR   BAHADURPUR  ...         NaN         NaN      NaN\n",
              "707           132  BASTI SADAR   BAHADURPUR  ...         NaN         NaN      NaN\n",
              "708           133  BASTI SADAR   BAHADURPUR  ...         NaN         NaN      NaN\n",
              "709           134  BASTI SADAR   BAHADURPUR  ...         NaN         NaN      NaN\n",
              "\n",
              "[710 rows x 19 columns]"
            ]
          },
          "metadata": {
            "tags": []
          },
          "execution_count": 35
        }
      ]
    },
    {
      "cell_type": "markdown",
      "metadata": {
        "id": "OiCwFvbYbGKJ",
        "colab_type": "text"
      },
      "source": [
        "**Step 5: Lets try to analyze gender (and clean it)**   \n",
        "List all the unique values in the Sex column.   \n",
        "You will see many different variations.    \n",
        "These will be cleaned in Step 6\n"
      ]
    },
    {
      "cell_type": "code",
      "metadata": {
        "id": "XP7RI7-3a3xN",
        "colab_type": "code",
        "colab": {
          "base_uri": "https://localhost:8080/",
          "height": 68
        },
        "outputId": "7c6fb1f5-31f0-486d-ed3a-f70062389de0"
      },
      "source": [
        "### Print all unique values in the sex column\n",
        "print(\"Current Unique values in Sex (and counts):\")\n",
        "print(df_new.Sex.unique())\n",
        "df_new['Sex'].nunique()\n",
        "\n",
        "### FILL CODE HERE\n"
      ],
      "execution_count": 5,
      "outputs": [
        {
          "output_type": "stream",
          "text": [
            "Current Unique values in Sex (and counts):\n",
            "['MALE' 'F' 'M' 'FEMALE' 'पु0' 'म0' 'ड' nan 'म']\n"
          ],
          "name": "stdout"
        },
        {
          "output_type": "execute_result",
          "data": {
            "text/plain": [
              "8"
            ]
          },
          "metadata": {
            "tags": []
          },
          "execution_count": 5
        }
      ]
    },
    {
      "cell_type": "markdown",
      "metadata": {
        "id": "38pppr8gbeQj",
        "colab_type": "text"
      },
      "source": [
        "**Step 6: Fix the bad data**   \n",
        "We only want this column to contain M or F.   \n",
        "We will manually change values which contain bad values such as MALE, FEMALE, ड, म0, म and so on."
      ]
    },
    {
      "cell_type": "code",
      "metadata": {
        "id": "RPftp1Kxbh-e",
        "colab_type": "code",
        "outputId": "6f0c6115-e498-4deb-f7f6-f969a01794f0",
        "colab": {
          "base_uri": "https://localhost:8080/",
          "height": 366
        }
      },
      "source": [
        "ds = df_new.copy() # Make changes in a new dataframe\n",
        "\n",
        "# Replace bad values in Sex using the following table\n",
        "# \"MALE\" -> \"M\"\n",
        "# \"FEMALE\" -> \"F\"\n",
        "# \"पु0\" -> \"M\"\n",
        "# \"म0\" -> \"F\"\n",
        "# \"म\" -> \"F\"\n",
        "# # Replace bad values, nans or Unknown values with Unknown -> U\n",
        "# nan -> \"U\"\n",
        "# \"ड\" -> \"U\"\n",
        "\n",
        "\n",
        "\n",
        "\n",
        "print(\"Updated unique values in Sex:\")\n",
        "### FILL CODE HERE\n",
        "ds.replace([\"MALE\",\"पु0\"], \"M\",inplace=True) \n",
        "ds.replace([\"FEMALE\", \"म0\",\"म\"],\"F\",inplace=True) \n",
        "ds.replace([\"nan\",\"ड\"], \"U\",inplace=True)\n",
        "print(ds.Sex.value_counts())\n",
        "ds['Sex'].value_counts().plot(kind='bar')"
      ],
      "execution_count": 6,
      "outputs": [
        {
          "output_type": "stream",
          "text": [
            "Updated unique values in Sex:\n",
            "M    662\n",
            "F     45\n",
            "U      2\n",
            "Name: Sex, dtype: int64\n"
          ],
          "name": "stdout"
        },
        {
          "output_type": "execute_result",
          "data": {
            "text/plain": [
              "<matplotlib.axes._subplots.AxesSubplot at 0x7f27ed09e320>"
            ]
          },
          "metadata": {
            "tags": []
          },
          "execution_count": 6
        },
        {
          "output_type": "display_data",
          "data": {
            "image/png": "[encoded data removed]",
            "text/plain": [
              "<Figure size 432x288 with 1 Axes>"
            ]
          },
          "metadata": {
            "tags": [],
            "needs_background": "light"
          }
        }
      ]
    },
    {
      "cell_type": "markdown",
      "metadata": {
        "id": "SoZMdzbtb8tQ",
        "colab_type": "text"
      },
      "source": [
        "**Step 7: Lets look at data and see what else can we fix**"
      ]
    },
    {
      "cell_type": "code",
      "metadata": {
        "id": "jcYOGT54b_8q",
        "colab_type": "code",
        "outputId": "60c9fdbc-436d-4541-ff05-213937704686",
        "colab": {
          "base_uri": "https://localhost:8080/",
          "height": 309
        }
      },
      "source": [
        "### use the .head() command to show the table again\n",
        "ds.head()"
      ],
      "execution_count": 7,
      "outputs": [
        {
          "output_type": "execute_result",
          "data": {
            "text/html": [
              "<div>\n",
              "<style scoped>\n",
              "    .dataframe tbody tr th:only-of-type {\n",
              "        vertical-align: middle;\n",
              "    }\n",
              "\n",
              "    .dataframe tbody tr th {\n",
              "        vertical-align: top;\n",
              "    }\n",
              "\n",
              "    .dataframe thead th {\n",
              "        text-align: right;\n",
              "    }\n",
              "</style>\n",
              "<table border=\"1\" class=\"dataframe\">\n",
              "  <thead>\n",
              "    <tr style=\"text-align: right;\">\n",
              "      <th></th>\n",
              "      <th>SerialNumber</th>\n",
              "      <th>Tehsil</th>\n",
              "      <th>Block</th>\n",
              "      <th>Village</th>\n",
              "      <th>FullName</th>\n",
              "      <th>FathersFullName</th>\n",
              "      <th>Age</th>\n",
              "      <th>Sex</th>\n",
              "      <th>PhoneNumber</th>\n",
              "      <th>IDProof</th>\n",
              "      <th>IDNumber</th>\n",
              "      <th>ArrivalDate</th>\n",
              "      <th>SourceCity</th>\n",
              "      <th>SourceCheckup</th>\n",
              "      <th>Skill</th>\n",
              "      <th>YrsExp</th>\n",
              "      <th>OtherSkills</th>\n",
              "      <th>CompanyName</th>\n",
              "      <th>Comments</th>\n",
              "    </tr>\n",
              "  </thead>\n",
              "  <tbody>\n",
              "    <tr>\n",
              "      <th>0</th>\n",
              "      <td>1</td>\n",
              "      <td>BASTI SADAR</td>\n",
              "      <td>BAHADUR PUR</td>\n",
              "      <td>Deidentified</td>\n",
              "      <td>Deidentified</td>\n",
              "      <td>Deidentified</td>\n",
              "      <td>15.0</td>\n",
              "      <td>M</td>\n",
              "      <td>12345678</td>\n",
              "      <td>ADHAR</td>\n",
              "      <td>9999999999</td>\n",
              "      <td>09-05-2020</td>\n",
              "      <td>MUMBAI</td>\n",
              "      <td>YES</td>\n",
              "      <td>LABOUR</td>\n",
              "      <td>7 MONTH</td>\n",
              "      <td>NaN</td>\n",
              "      <td>NaN</td>\n",
              "      <td>NaN</td>\n",
              "    </tr>\n",
              "    <tr>\n",
              "      <th>1</th>\n",
              "      <td>2</td>\n",
              "      <td>BASTI SADAR</td>\n",
              "      <td>BAHADUR PUR</td>\n",
              "      <td>Deidentified</td>\n",
              "      <td>Deidentified</td>\n",
              "      <td>Deidentified</td>\n",
              "      <td>22.0</td>\n",
              "      <td>M</td>\n",
              "      <td>12345678</td>\n",
              "      <td>ADHAR</td>\n",
              "      <td>9999999999</td>\n",
              "      <td>09-05-2020</td>\n",
              "      <td>MUMBAI</td>\n",
              "      <td>YES</td>\n",
              "      <td>LABOUR</td>\n",
              "      <td>5 MONTHS</td>\n",
              "      <td>NaN</td>\n",
              "      <td>NaN</td>\n",
              "      <td>NaN</td>\n",
              "    </tr>\n",
              "    <tr>\n",
              "      <th>2</th>\n",
              "      <td>3</td>\n",
              "      <td>BASTI SADAR</td>\n",
              "      <td>Bahadur pur</td>\n",
              "      <td>Deidentified</td>\n",
              "      <td>Deidentified</td>\n",
              "      <td>Deidentified</td>\n",
              "      <td>20.0</td>\n",
              "      <td>F</td>\n",
              "      <td>12345678</td>\n",
              "      <td>NaN</td>\n",
              "      <td>9999999999</td>\n",
              "      <td>29-04-2020</td>\n",
              "      <td>Prayagraj</td>\n",
              "      <td>YES</td>\n",
              "      <td>NaN</td>\n",
              "      <td>NaN</td>\n",
              "      <td>NaN</td>\n",
              "      <td>NaN</td>\n",
              "      <td>NaN</td>\n",
              "    </tr>\n",
              "    <tr>\n",
              "      <th>3</th>\n",
              "      <td>4</td>\n",
              "      <td>BASTI SADAR</td>\n",
              "      <td>Bahadur pur</td>\n",
              "      <td>Deidentified</td>\n",
              "      <td>Deidentified</td>\n",
              "      <td>Deidentified</td>\n",
              "      <td>21.0</td>\n",
              "      <td>M</td>\n",
              "      <td>12345678</td>\n",
              "      <td>NaN</td>\n",
              "      <td>9999999999</td>\n",
              "      <td>29-04-2020</td>\n",
              "      <td>Prayagraj</td>\n",
              "      <td>YES</td>\n",
              "      <td>NaN</td>\n",
              "      <td>NaN</td>\n",
              "      <td>NaN</td>\n",
              "      <td>NaN</td>\n",
              "      <td>NaN</td>\n",
              "    </tr>\n",
              "    <tr>\n",
              "      <th>4</th>\n",
              "      <td>5</td>\n",
              "      <td>BASTI SADAR</td>\n",
              "      <td>Bahadur pur</td>\n",
              "      <td>Deidentified</td>\n",
              "      <td>Deidentified</td>\n",
              "      <td>Deidentified</td>\n",
              "      <td>21.0</td>\n",
              "      <td>M</td>\n",
              "      <td>12345678</td>\n",
              "      <td>NaN</td>\n",
              "      <td>9999999999</td>\n",
              "      <td>29-04-2020</td>\n",
              "      <td>Prayagraj</td>\n",
              "      <td>YES</td>\n",
              "      <td>NaN</td>\n",
              "      <td>NaN</td>\n",
              "      <td>NaN</td>\n",
              "      <td>NaN</td>\n",
              "      <td>NaN</td>\n",
              "    </tr>\n",
              "  </tbody>\n",
              "</table>\n",
              "</div>"
            ],
            "text/plain": [
              "   SerialNumber       Tehsil        Block  ... OtherSkills CompanyName Comments\n",
              "0             1  BASTI SADAR  BAHADUR PUR  ...         NaN         NaN      NaN\n",
              "1             2  BASTI SADAR  BAHADUR PUR  ...         NaN         NaN      NaN\n",
              "2             3  BASTI SADAR  Bahadur pur  ...         NaN         NaN      NaN\n",
              "3             4  BASTI SADAR  Bahadur pur  ...         NaN         NaN      NaN\n",
              "4             5  BASTI SADAR  Bahadur pur  ...         NaN         NaN      NaN\n",
              "\n",
              "[5 rows x 19 columns]"
            ]
          },
          "metadata": {
            "tags": []
          },
          "execution_count": 7
        }
      ]
    },
    {
      "cell_type": "markdown",
      "metadata": {
        "id": "cs6ajhOScKgi",
        "colab_type": "text"
      },
      "source": [
        "**Step 8: Change all Block names to Bahadurpur**   \n",
        "Looks like they can contain different spellings or variations. Just fix all to the same value."
      ]
    },
    {
      "cell_type": "code",
      "metadata": {
        "id": "eIkqbJy0cU8u",
        "colab_type": "code",
        "outputId": "487e861a-c057-40be-f94a-b5f57c8d4b53",
        "colab": {
          "base_uri": "https://localhost:8080/",
          "height": 306
        }
      },
      "source": [
        "print(\"Block names before cleaning\")\n",
        "### FILL CODE HERE FOR THE OUTPUT BELOW\n",
        "ds.Block.value_counts()"
      ],
      "execution_count": 8,
      "outputs": [
        {
          "output_type": "stream",
          "text": [
            "Block names before cleaning\n"
          ],
          "name": "stdout"
        },
        {
          "output_type": "execute_result",
          "data": {
            "text/plain": [
              "BAHADURPUR     447\n",
              "बहादुरपुर       80\n",
              "BHADHUR PUR     69\n",
              "BAHADUR PUR     61\n",
              "BHADHUR         11\n",
              "BHADHURPUR       9\n",
              "BHADURPUR        7\n",
              "Bhadhur pur      6\n",
              "Bahadur pur      5\n",
              "Bhadhurpur       4\n",
              "BAHDURPR         3\n",
              "Bahadur Pur      3\n",
              "Bahdhur          2\n",
              "BAHDURPUR        2\n",
              "Bhadhur          1\n",
              "Name: Block, dtype: int64"
            ]
          },
          "metadata": {
            "tags": []
          },
          "execution_count": 8
        }
      ]
    },
    {
      "cell_type": "code",
      "metadata": {
        "id": "dfYe8tfmcc1j",
        "colab_type": "code",
        "outputId": "61c727ad-421a-423d-cd56-6c072c72b21f",
        "colab": {
          "base_uri": "https://localhost:8080/",
          "height": 68
        }
      },
      "source": [
        "### Fill code here to replace all \"Block\" values with \"BAHADURPUR\"\n",
        "print(\"Block names after cleaning:\")\n",
        "ds.replace([\"बहादुरपुर\",\"BHADHUR PUR\",\"BAHADUR PUR\",\"BHADHUR\",\"BHADHURPUR\",\"BHADURPUR\",\"Bhadhur pur\",\"Bahadur pur\",\"Bhadhurpur\",\"Bahadur Pur\",\"BAHDURPR\",\"Bahdhur\",\"BAHDURPUR\",\"Bhadhur\"],\"BAHADURPUR\",inplace=True)\n",
        "\n",
        "### Fill code to show values and counts\n",
        "ds.Block.value_counts()"
      ],
      "execution_count": 9,
      "outputs": [
        {
          "output_type": "stream",
          "text": [
            "Block names after cleaning:\n"
          ],
          "name": "stdout"
        },
        {
          "output_type": "execute_result",
          "data": {
            "text/plain": [
              "BAHADURPUR    710\n",
              "Name: Block, dtype: int64"
            ]
          },
          "metadata": {
            "tags": []
          },
          "execution_count": 9
        }
      ]
    },
    {
      "cell_type": "markdown",
      "metadata": {
        "id": "XzvOuXGvcp0Z",
        "colab_type": "text"
      },
      "source": [
        "**Let's look at possible city names**"
      ]
    },
    {
      "cell_type": "code",
      "metadata": {
        "id": "abiKInwRcxZW",
        "colab_type": "code",
        "outputId": "9b968899-0b15-4ba1-e287-919e62263836",
        "colab": {
          "base_uri": "https://localhost:8080/",
          "height": 476
        }
      },
      "source": [
        "### Fill code here to print all city names\n",
        "col_values=ds['SourceCity'].values.ravel()\n",
        "value=pd.unique(col_values)\n",
        "print(value)\n",
        "print(ds['SourceCity'].value_counts())\n"
      ],
      "execution_count": 10,
      "outputs": [
        {
          "output_type": "stream",
          "text": [
            "['MUMBAI' 'Prayagraj' 'DELHI' 'INDORE' 'FARIDABAD' 'HYDRABAD' 'GUJRAT'\n",
            " 'MADHYA PRADESH' 'ANDHRA PRADESH' 'GURGAON' 'AHAMADABAD' 'KANPUR'\n",
            " 'ALIGARH' 'GONDA' nan 'AMRITSAR' 'RAJASTHAN' 'BOMBAY' 'BALLABHGARH'\n",
            " 'NOIDA' 'AHEMADABAD' 'NAGPUR' 'MATHURA' 'AHAMDABAD' 'BHIMANDI' 'THANE'\n",
            " 'PUNE' 'SURAT' 'HAPUR' 'SAHARANPUR' 'HARYANA' 'BHIWNDI' 'AHMEDABAD'\n",
            " 'TELANGANA' 'HARIYANA' 'BHIWANDI' 'JALGAUV' 'RAJSTHAN' 'MAHARASTRA'\n",
            " 'KERALA' 'BRODARA' 'BANGOLORE' 'KERLA' 'MHARSATRA' 'LUCKNOW' 'GUDGAWA'\n",
            " 'NAGH PUR' 'MHARASTRA' 'AMDABAD' 'BANGLOR' 'JHASI' 'PUNA' 'SAHARAN PUR'\n",
            " 'HARAYAN' 'CHNADI GHAR' 'GAZIYABAD' 'NASIK' 'VASAI MUMBAI' 'BEGLORE'\n",
            " 'ULWAY MUMBAI' 'मुम्बई' 'मुम्बई भिवडी' 'सूरत' 'हैदराबाद' 'तेलंगाना'\n",
            " 'लुधियाना' 'हापुड' 'मुम्बई मानखुर्द एकतानगर' 'गुजरात गोधरा' 'थाने' 'वसई'\n",
            " 'बसई' 'अन्धेरी बेस्ट' 'पुणे' 'गुजरात' 'केरल' 'MUMBAI CST' 'AHAMADNAGAR'\n",
            " 'BELAUR' 'NIGOJ' 'MMBAI' 'MAHARSHTRA' 'fnYyh' 'Fkkus' 'eqEcbZ' 'POONA'\n",
            " 'MUMABAI' 'HENFRABAD' 'HAIDRABAD' 'BANGLORE' 'RAJESTHA' 'SOLAPUR' 'AGRA'\n",
            " 'JAMMU' 'GUJRAAT' 'BEGOLOR' 'AGARA' 'AHMADABAD' 'कानपुर' 'अहमदाबाद']\n",
            "MUMBAI       226\n",
            "मुम्बई        64\n",
            "GUJRAT        41\n",
            "DELHI         37\n",
            "Prayagraj     22\n",
            "            ... \n",
            "MUMABAI        1\n",
            "HENFRABAD      1\n",
            "HAPUR          1\n",
            "JALGAUV        1\n",
            "BHIMANDI       1\n",
            "Name: SourceCity, Length: 99, dtype: int64\n"
          ],
          "name": "stdout"
        }
      ]
    },
    {
      "cell_type": "markdown",
      "metadata": {
        "id": "yt2ZJ2_Fc2gy",
        "colab_type": "text"
      },
      "source": [
        "**Challenge 1: Fix city names**   \n",
        "The city names are dirty, for example:   \n",
        "HAIDRABAD, Hyderabad, Hyderabad   \n",
        "BANGLORE, BANGALORE, Bangalore, Begolore   \n",
        "GUJRAT, GUJARAT, GUJRAAT   \n",
        "AGARA, AGRA   \n",
        "कानपुर, Kanpur    \n",
        "Mumbai, MUMABAI, मुम्बई, मुम्बई भिवडी, VASAI MUMBAI\n",
        "\n",
        "   "
      ]
    },
    {
      "cell_type": "markdown",
      "metadata": {
        "id": "DirdWL2Hd3bo",
        "colab_type": "text"
      },
      "source": [
        "Your challenge is to fix these names.   \n",
        "One way is to replace them manually like we have done above for the Sex column.   \n",
        "Another way to do it is to use a look up table for replacements.   \n",
        "Use this to clean city names.   \n",
        "\n",
        "We have provided a look up table here (file: cityreplacement.csv):\n",
        "https://drive.google.com/file/d/1CTlnwK-wfmqMrQ0g6K5dbDQ_-IhpGCLm/view?usp=sharing   \n",
        "\n",
        "You can use the upload file method above to upload this table and use it for replacements.\n",
        "\n",
        "At the end of this task there should not be more than 1 variation for every city."
      ]
    },
    {
      "cell_type": "code",
      "metadata": {
        "id": "WEZ0c_QSegLQ",
        "colab_type": "code",
        "colab": {
          "base_uri": "https://localhost:8080/",
          "height": 1000
        },
        "outputId": "91ffccfa-452b-4d02-c51a-0ada0dc8a314"
      },
      "source": [
        "### Option 1: Add code (or code cells) here to replace city names manually.\n",
        "### Option 2: (Preferred) Add code (or code cells) here to upload file cityreplacement.csv \n",
        "### and clean city names using code\n",
        "ds.replace([\"HAIDRABAD\",\" Hyderabad\",\"HYDRABAD\",\"हैदराबाद\",\"HENFRABAD\"],\"Hyderabad\",inplace=True)\n",
        "ds.replace([\"MUMBAI\",\"मुम्बई\",\"MUMBAI CST\",\"MMBAI\",\"MUMABAI\",\"BOMBAY\"],\"Mumbai\",inplace=True)\n",
        "ds.replace([\"DELHI\"],\"Delhi\",inplace=True)\n",
        "ds.replace([\"INDORE\"],\"Indore\",inplace=True)\n",
        "ds.replace([\"FARIDABAD\"],\"Faridabad\",inplace=True)\n",
        "ds.replace([\"GUJRAT\",\"गुजरात\",\"GUJRAAT\"],\"Gujarat\",inplace=True)\n",
        "ds.replace([\"MADHYA PRADESH\"],\"Madhya Pradesh\",inplace=True)\n",
        "ds.replace([\"ANDHRA PRADESH\"],\"Andra Pradesh\",inplace=True)\n",
        "ds.replace([\"BANGLORE\",\"BANGOLORE\",\"BANGLOR\",\"BEGLORE\",\"BANGLORE\",\"BEGOLOR\"],\"Bangalore\",inplace=True)\n",
        "ds.replace([\"AHAMADABAD\",\"AHEMADABAD\",\"AHAMDABAD\",\"AHMEDABAD\",\"AMDABAD\",\"AHMADABAD\",\"अहमदाबाद\",\"AHAMADNAGAR\"],\"Ahmedabad\",inplace=True)\n",
        "ds.replace([\"KANPUR\",\"कानपुर\"],\"Kanpur\",inplace=True)\n",
        "ds.replace([\"GURGAON\",\"GUDGAWA\"],\"Gurugram\",inplace=True)\n",
        "ds.replace([\"RAJASTHAN\",\"RAJSTHAN\",\"RAJESTHA\"],\"Rajasthan\",inplace=True)\n",
        "ds.replace([\"AGARA\",\"AGRA\"],\"Agra\",inplace=True)\n",
        "ds.replace([\"POONA\",\"पुणे\",\"PUNA\",\"PUNE\"],\"Pune\",inplace=True)\n",
        "ds.replace([\"JAMMU\"],\"Jammu\",inplace=True)\n",
        "ds.replace([\"fnYyh\",\"Fkkus\",\"eqEcbZ\",\"nan\"],\"unknown\",inplace=True)\n",
        "ds.replace([\"NIGOJ\"],\"Nighoj\",inplace=True)\n",
        "ds.replace([\"केरल\",\"KERALA\",\"KERLA\"],\"Kerela\",inplace=True)\n",
        "ds.replace([\"VASAI MUMBAI\",\"वसई\",\"बसई\"],\"Vasai\",inplace=True)\n",
        "ds.replace([\"BELAUR\"],\"Belaur\",inplace=True)\n",
        "ds.replace([\"SAHARANPUR\",\"SAHARAN PUR\"],\"Saharanpur\",inplace=True)\n",
        "ds.replace([\"अन्धेरी बेस्ट\"],\"Andheri\",inplace=True)\n",
        "ds.replace([\"थाने\",\"THANE\"],\"Thane\",inplace=True)\n",
        "ds.replace([\"हापुड\",\"HAPUR\"],\"Hapur\",inplace=True)\n",
        "ds.replace([\"लुधियाना\"],\"Ludhiana\",inplace=True)\n",
        "ds.replace([\"तेलंगाना\",\"TELANGANA\"],\"Telangana\",inplace=True)\n",
        "ds.replace([\"सूरत\",\"SURAT\"],\"Surat\",inplace=True)\n",
        "ds.replace([\"NASIK\"],\"Nashik\",inplace=True)\n",
        "ds.replace([\"GAZIYABAD\"],\"Ghaziabad\",inplace=True)\n",
        "ds.replace([\"CHNADI GHAR\"],\"Chandigarh\",inplace=True)\n",
        "ds.replace([\"HARAYAN\",\"HARYANA\"],\"Haryana\",inplace=True)\n",
        "ds.replace([\"JHASI\"],\"Jhansi\",inplace=True)\n",
        "ds.replace([\"NAGH PUR\",\"NAGPUR\"],\"Nagpur\",inplace=True)\n",
        "ds.replace([\"LUCKNOW\"],\"Lucknow\",inplace=True)\n",
        "ds.replace([\"BRODARA\"],\"Baroda\",inplace=True)\n",
        "ds.replace([\"JALGAUV\"],\"Jalgaon\",inplace=True)\n",
        "ds.replace([\"BHIWANDI\",\"BHIWNDI\",\"BHIMANDI\",\"मुम्बई भिवडी\"],\"Bhiwandi\",inplace=True)\n",
        "ds.replace([\"MATHURA\"],\"Mathura\",inplace=True)\n",
        "ds.replace([\"NOIDA\"],\"Noida\",inplace=True)\n",
        "ds.replace([\"BALLABHGARH\"],\"Ballabhgarh\",inplace=True)\n",
        "ds.replace([\"AMRITSAR\"],\"Amritsar\",inplace=True)\n",
        "ds.replace([\"GONDA\"],\"Gonda\",inplace=True)\n",
        "ds.replace([\"ALIGARH\"],\"Aligarh\",inplace=True)\n",
        "ds.replace([\"मुम्बई मानखुर्द एकतानगर\"],\"Ekta Nagar Mankhurd\",inplace=True)\n",
        "ds.replace([\"ULWAY MUMBAI\"],\"Ulwe Mumbai\",inplace=True)\n",
        "ds.replace([\"MAHARASTRA\",\"MHARSATRA\",\"MHARASTRA\"],\"Maharashtra\",inplace=True)\n",
        "ds.replace([\"गुजरात गोधरा\"],\"Godhra\",inplace=True)\n",
        "ds.replace([\"SOLAPUR\"],\"Solapur\",inplace=True)\n",
        "\n",
        "print(ds.SourceCity.value_counts())\n",
        "#ds['SourceCity'].value_counts().plot(kind='bar')\n",
        "ds['SourceCity'].value_counts().plot(kind='barh', figsize=(15, 20))\n",
        "plt.xlabel(\"variation\", labelpad=14)\n",
        "plt.ylabel(\"City names\", labelpad=14)\n",
        "plt.title(\"variation in sourcecity\", y=1.02);\n",
        "\n"
      ],
      "execution_count": 11,
      "outputs": [
        {
          "output_type": "stream",
          "text": [
            "Mumbai                 329\n",
            "Gujarat                 45\n",
            "Delhi                   37\n",
            "Ahmedabad               29\n",
            "Bhiwandi                24\n",
            "Prayagraj               22\n",
            "Ballabhgarh             16\n",
            "Rajasthan               14\n",
            "Kerela                  13\n",
            "Pune                    12\n",
            "Hyderabad               12\n",
            "Agra                    10\n",
            "Bangalore               10\n",
            "Telangana                9\n",
            "Surat                    9\n",
            "Maharashtra              9\n",
            "Kanpur                   8\n",
            "unknown                  8\n",
            "Vasai                    7\n",
            "HARIYANA                 6\n",
            "Nagpur                   6\n",
            "Haryana                  6\n",
            "Thane                    4\n",
            "Gurugram                 4\n",
            "Gonda                    4\n",
            "Ludhiana                 4\n",
            "Solapur                  4\n",
            "Saharanpur               4\n",
            "Faridabad                4\n",
            "Andra Pradesh            4\n",
            "MAHARSHTRA               4\n",
            "Madhya Pradesh           3\n",
            "Ekta Nagar Mankhurd      2\n",
            "Aligarh                  2\n",
            "Nashik                   2\n",
            "Amritsar                 2\n",
            "Jhansi                   2\n",
            "Hapur                    2\n",
            "Belaur                   1\n",
            "Andheri                  1\n",
            "Mathura                  1\n",
            "Godhra                   1\n",
            "Jalgaon                  1\n",
            "Indore                   1\n",
            "Nighoj                   1\n",
            "Ulwe Mumbai              1\n",
            "Noida                    1\n",
            "Baroda                   1\n",
            "Chandigarh               1\n",
            "Lucknow                  1\n",
            "Jammu                    1\n",
            "Ghaziabad                1\n",
            "Name: SourceCity, dtype: int64\n"
          ],
          "name": "stdout"
        },
        {
          "output_type": "display_data",
          "data": {
            "image/png": "[encoded data removed]",
            "text/plain": [
              "<Figure size 1080x1440 with 1 Axes>"
            ]
          },
          "metadata": {
            "tags": [],
            "needs_background": "light"
          }
        }
      ]
    },
    {
      "cell_type": "markdown",
      "metadata": {
        "id": "GI5xSAVtfc4V",
        "colab_type": "text"
      },
      "source": [
        "**Challenge 2: Hard**   \n",
        "Clean the YrsExp column   \n",
        "This column can contain many dirty values.    \n",
        "After clean up, all this column should contain is a number.   \n",
        "Any years > 10 should be replaced by 10,   \n",
        "and any value in months should be replaced by 0.   \n",
        "    \n",
        "This column can contain these values:   \n",
        "['7 MONTH' '5 MONTHS' nan '2 YEARS' '1 YEAR' '6 MONTHS' '3 YEARS'\n",
        " '2 MONTHS' '5 YEAR' '7 MONTHS' '3 YEAR' '2 YEAR' '6 YEARS' '7 YEARS'\n",
        " '4 MONTHS' '4' '6' '7' '2' '8' '15' '5' '10 YEAR' '8 year' '25 YEARS' '3'\n",
        " '1' '1YEAR' '5 YEARS' '1 YERS' '06 MONTHS' '05 YEARS' '03 YEARS'\n",
        " '04 MONTHS' '02 YEARS' '03 MONTHS' '02 MONTHS' '01 YEARS' '4 YEARS' '10'\n",
        " '13' '3YEAR' '6YRS.' '5YRS.' '4YRS.' '7YRS.' '10YRS.' '9YRS.' '3 MOTH'\n",
        " '5 MONTH' '20' '6 YEAR' '33' '18' '11' '4 YEAR' '6 Month' '2 MONTH'\n",
        " '15 YEAR' '25' '40' '19' '27' '7 YEAR' '17 YEAR' '8 YEAR' '9 YEAR'\n",
        " '15 YEARS' '3 MONTH' '11 MONTHS' '6 MONTH' '11 YEARS' '10 YEARS'\n",
        " '12 YEARS' '8 MONTH' '9' '30' '12' '4 MONTH' '5 YERS' '3साल' '10साल'\n",
        " '1साल' '7साल' '5साल' '3 माह' '2 माह' '3 साल' '2 साल' '4साल' '2साल'\n",
        " '18साल' '30साल' '11साल' '40साल' '12साल' '6माह' '3माह' '13साल' '8साल'\n",
        " '3 वर्ष' '10 वर्ष' '8 माह' '7 वर्ष' '9वर्श' '3 बर्ष' '5 वर्ष' '5 माह'\n",
        " '8 वर्ष' '4 वर्ष' '2 वर्ष' '1 वर्ष' '6 माह' '4माह' '5 साल' '25 साल'\n",
        " '9 साल' '5माह' '6साल' '4Y' '20 YEARS' '40 YEAR' '5Y' '12 YEAR' '2MONTHS'\n",
        " '9o\"kZ' '5o\"kZ' '3o\"kZ' '20o\"kZ' '25o\"kZ' '6MONTH' '10YEARS' '2YRS.'\n",
        " '2 YRS.' '2YRS' '1YRS' '8YRS' '2YEAR' '3YEAT' '5 YS' '8 MONTHS' '4 YS'\n",
        " '6 MTH' '15 YS' '22' '14' '30YEAR' '28' '12 साल' '1 साल' '15 साल'\n",
        " '20 साल' '10 साल' '4 साल']   \n",
        "    \n",
        "   \n",
        "**Use your programming skills to clean this column**"
      ]
    },
    {
      "cell_type": "code",
      "metadata": {
        "id": "_0qXeCy4grXj",
        "colab_type": "code",
        "colab": {}
      },
      "source": [
        "### Clean the YrsExp Column to a number between 0 and 100\n",
        "import numpy as np"
      ],
      "execution_count": 0,
      "outputs": []
    },
    {
      "cell_type": "code",
      "metadata": {
        "id": "WZOjkp1NfcPB",
        "colab_type": "code",
        "colab": {
          "base_uri": "https://localhost:8080/",
          "height": 221
        },
        "outputId": "4375212f-8c24-404f-8ce9-b1f590b0c801"
      },
      "source": [
        "#Challenge 2\n",
        "\n",
        "#since in question it is mention that we have to make month equal to 0 so I have taken all possible value of month to single value since in month there is a value -11 month ,so if we take actual values so it will give value 10 to 11month itself thats why I have taken single value.\n",
        "#since in question it is not mention that what value I have to take if year<10 so I have assumed it to be 0......\n",
        "\n",
        "#ds['YrsExp'\n",
        "ds.replace([\"nan\"],\"unknown\",inplace=True)\n",
        "ds.replace([\"7 MONTH\",\"5 MONTHS\",\"6 MONTHS\",\"2 MONTHS\",\"7 MONTHS\",\"4 MONTHS\",\"06 MONTHS\",\"04 MONTHS\",\"03 MONTHS\",\"02 MONTHS\",\"3 MOTH\",\"5 MONTH\",\"6 Month\",\"2 MONTH\",\"3 MONTH\",\"11 MONTHS\",\"6 MONTH\",\"8 MONTH\",\"4 MONTH\",\"3 माह\",\"2 माह\",\"6माह\",\"3माह\",\"8 माह\",\"5 माह\",\"6 माह\",\"4माह\",\"5माह\",\"2MONTHS\",\"6MONTH\",\"8 MONTHS\",\"6 MTH\"],\"1\",inplace=True)\n",
        "\n",
        "ds['YrsExp'].replace(regex=True, inplace=True, to_replace=r'[^0-9.\\-]', value=r'')\n",
        "ds['YrsExp'] = ds['YrsExp'].astype('float64')\n",
        "#for value in ds['YrsExp']:\n",
        "#ds['YrsExp']\n",
        "\n",
        "ds['YrsExp']\n",
        "result=[]\n",
        "for value in ds['YrsExp']:\n",
        "  \n",
        "  if value > 10:\n",
        "    result.append(10)\n",
        "  else:\n",
        "    result.append(0)\n",
        "ds['YrsExp']=result\n",
        "ds['YrsExp']\n",
        "\n"
      ],
      "execution_count": 37,
      "outputs": [
        {
          "output_type": "execute_result",
          "data": {
            "text/plain": [
              "0      0\n",
              "1      0\n",
              "2      0\n",
              "3      0\n",
              "4      0\n",
              "      ..\n",
              "705    0\n",
              "706    0\n",
              "707    0\n",
              "708    0\n",
              "709    0\n",
              "Name: YrsExp, Length: 710, dtype: int64"
            ]
          },
          "metadata": {
            "tags": []
          },
          "execution_count": 37
        }
      ]
    },
    {
      "cell_type": "markdown",
      "metadata": {
        "id": "j_ePhTZyg2ka",
        "colab_type": "text"
      },
      "source": [
        "**Challenge 3: Hardest**   \n",
        "Clean the city names list using fuzzy string matching. Fuzzy string matching calculates string similarity.   \n",
        "\n",
        "Some examples:   \n",
        "\n",
        "String 1|String2|Match Score\n",
        ":-:|:-:|:-:\n",
        "Mumbai | Mumabai | 92%\n",
        "Mumbai | Vasai Mumbai | 66%\n",
        "Mumbai | Bangalore | 13%\n",
        "Bagalore | Bangalore | 94%\n",
        "\n",
        "\n",
        "Using this score, we could replace both the first two examples with \n",
        "\n",
        "By using a list of possible options, you can look for matches that have a score higher than 60%, and replace them. You can use the list of options in the second column in this file:   \n",
        "\n",
        "https://drive.google.com/file/d/1CTlnwK-wfmqMrQ0g6K5dbDQ_-IhpGCLm/view?usp=sharing\n",
        "\n",
        "Read example tutorial here: https://towardsdatascience.com/how-to-do-fuzzy-matching-in-python-pandas-dataframe-6ce3025834a6   \n",
        "Experiment with similarity here: https://www.tools4noobs.com/online_tools/string_similarity/"
      ]
    },
    {
      "cell_type": "code",
      "metadata": {
        "id": "jzOX2C8rzIda",
        "colab_type": "code",
        "colab": {
          "base_uri": "https://localhost:8080/",
          "height": 85
        },
        "outputId": "74b58709-fbac-4377-c410-f562bec0c3b9"
      },
      "source": [
        "pip install fuzzywuzzy"
      ],
      "execution_count": 39,
      "outputs": [
        {
          "output_type": "stream",
          "text": [
            "Collecting fuzzywuzzy\n",
            "  Downloading https://files.pythonhosted.org/packages/43/ff/74f23998ad2f93b945c0309f825be92e04e0348e062026998b5eefef4c33/fuzzywuzzy-0.18.0-py2.py3-none-any.whl\n",
            "Installing collected packages: fuzzywuzzy\n",
            "Successfully installed fuzzywuzzy-0.18.0\n"
          ],
          "name": "stdout"
        }
      ]
    },
    {
      "cell_type": "code",
      "metadata": {
        "id": "-G6-Os-eydW7",
        "colab_type": "code",
        "colab": {
          "base_uri": "https://localhost:8080/",
          "height": 51
        },
        "outputId": "f5a62ccb-9b64-45f0-b0a6-224af3167324"
      },
      "source": [
        "from fuzzywuzzy import fuzz\n",
        "from fuzzywuzzy import process"
      ],
      "execution_count": 40,
      "outputs": [
        {
          "output_type": "stream",
          "text": [
            "/usr/local/lib/python3.6/dist-packages/fuzzywuzzy/fuzz.py:11: UserWarning: Using slow pure-python SequenceMatcher. Install python-Levenshtein to remove this warning\n",
            "  warnings.warn('Using slow pure-python SequenceMatcher. Install python-Levenshtein to remove this warning')\n"
          ],
          "name": "stderr"
        }
      ]
    },
    {
      "cell_type": "code",
      "metadata": {
        "id": "zxyCwbm6zPlb",
        "colab_type": "code",
        "colab": {}
      },
      "source": [
        "def checker(wrong_options,correct_options):\n",
        "    names_array=[]\n",
        "    ratio_array=[]    \n",
        "    for wrong_option in wrong_options:\n",
        "        if wrong_option in correct_options:\n",
        "           names_array.append(wrong_option)\n",
        "           ratio_array.append('100')\n",
        "        else:   \n",
        "            x=process.extractOne(wrong_option,correct_options,scorer=fuzz.token_set_ratio)\n",
        "            names_array.append(x[0])\n",
        "            ratio_array.append(x[1])\n",
        "    return names_array,ratio_array"
      ],
      "execution_count": 0,
      "outputs": []
    },
    {
      "cell_type": "code",
      "metadata": {
        "id": "lNfsG0b74Usn",
        "colab_type": "code",
        "colab": {}
      },
      "source": [
        "df_Original_List=pd.read_csv(\"/content/cityreplacements.csv\",usecols=[\"Current Value\"])\n",
        "df_To_beMatched=pd.read_csv(\"/content/cityreplacements.csv\",usecols=[\"New Value\"])"
      ],
      "execution_count": 0,
      "outputs": []
    },
    {
      "cell_type": "code",
      "metadata": {
        "id": "PzCVtJ1v5i-v",
        "colab_type": "code",
        "colab": {}
      },
      "source": [
        "str2Match = df_To_beMatched['New Value'].fillna('######').tolist()\n",
        "strOptions =df_Original_List['Current Value'].fillna('######').tolist()"
      ],
      "execution_count": 0,
      "outputs": []
    },
    {
      "cell_type": "code",
      "metadata": {
        "id": "63ymhfn555mi",
        "colab_type": "code",
        "colab": {}
      },
      "source": [
        "name_match,ratio_match=checker(str2Match,strOptions)\n",
        "df1 = pd.DataFrame()\n",
        "df1['String1']=pd.Series(str2Match)\n",
        "df1['String2']=pd.Series(name_match)\n",
        "df1['match_ratio']=pd.Series(ratio_match)\n",
        "df1.to_csv('matched_names.csv')"
      ],
      "execution_count": 0,
      "outputs": []
    },
    {
      "cell_type": "code",
      "metadata": {
        "id": "umdp_Xpf618N",
        "colab_type": "code",
        "colab": {
          "base_uri": "https://localhost:8080/",
          "height": 419
        },
        "outputId": "2c4758f1-4c73-4f10-c575-11e71c49a2cc"
      },
      "source": [
        "df1"
      ],
      "execution_count": 61,
      "outputs": [
        {
          "output_type": "execute_result",
          "data": {
            "text/html": [
              "<div>\n",
              "<style scoped>\n",
              "    .dataframe tbody tr th:only-of-type {\n",
              "        vertical-align: middle;\n",
              "    }\n",
              "\n",
              "    .dataframe tbody tr th {\n",
              "        vertical-align: top;\n",
              "    }\n",
              "\n",
              "    .dataframe thead th {\n",
              "        text-align: right;\n",
              "    }\n",
              "</style>\n",
              "<table border=\"1\" class=\"dataframe\">\n",
              "  <thead>\n",
              "    <tr style=\"text-align: right;\">\n",
              "      <th></th>\n",
              "      <th>String1</th>\n",
              "      <th>String2</th>\n",
              "      <th>match_ratio</th>\n",
              "    </tr>\n",
              "  </thead>\n",
              "  <tbody>\n",
              "    <tr>\n",
              "      <th>0</th>\n",
              "      <td>Mumbai</td>\n",
              "      <td>MUMBAI</td>\n",
              "      <td>100</td>\n",
              "    </tr>\n",
              "    <tr>\n",
              "      <th>1</th>\n",
              "      <td>Prayagraj</td>\n",
              "      <td>Prayagraj</td>\n",
              "      <td>100</td>\n",
              "    </tr>\n",
              "    <tr>\n",
              "      <th>2</th>\n",
              "      <td>Delhi</td>\n",
              "      <td>DELHI</td>\n",
              "      <td>100</td>\n",
              "    </tr>\n",
              "    <tr>\n",
              "      <th>3</th>\n",
              "      <td>Indore</td>\n",
              "      <td>INDORE</td>\n",
              "      <td>100</td>\n",
              "    </tr>\n",
              "    <tr>\n",
              "      <th>4</th>\n",
              "      <td>Faridabad</td>\n",
              "      <td>FARIDABAD</td>\n",
              "      <td>100</td>\n",
              "    </tr>\n",
              "    <tr>\n",
              "      <th>...</th>\n",
              "      <td>...</td>\n",
              "      <td>...</td>\n",
              "      <td>...</td>\n",
              "    </tr>\n",
              "    <tr>\n",
              "      <th>95</th>\n",
              "      <td>Bangalore</td>\n",
              "      <td>BANGLORE</td>\n",
              "      <td>94</td>\n",
              "    </tr>\n",
              "    <tr>\n",
              "      <th>96</th>\n",
              "      <td>Agra</td>\n",
              "      <td>AGRA</td>\n",
              "      <td>100</td>\n",
              "    </tr>\n",
              "    <tr>\n",
              "      <th>97</th>\n",
              "      <td>Ahmedabad</td>\n",
              "      <td>AHMEDABAD</td>\n",
              "      <td>100</td>\n",
              "    </tr>\n",
              "    <tr>\n",
              "      <th>98</th>\n",
              "      <td>Kanpur</td>\n",
              "      <td>KANPUR</td>\n",
              "      <td>100</td>\n",
              "    </tr>\n",
              "    <tr>\n",
              "      <th>99</th>\n",
              "      <td>Ahmedabad</td>\n",
              "      <td>AHMEDABAD</td>\n",
              "      <td>100</td>\n",
              "    </tr>\n",
              "  </tbody>\n",
              "</table>\n",
              "<p>100 rows × 3 columns</p>\n",
              "</div>"
            ],
            "text/plain": [
              "      String1    String2 match_ratio\n",
              "0      Mumbai     MUMBAI         100\n",
              "1   Prayagraj  Prayagraj         100\n",
              "2       Delhi      DELHI         100\n",
              "3      Indore     INDORE         100\n",
              "4   Faridabad  FARIDABAD         100\n",
              "..        ...        ...         ...\n",
              "95  Bangalore   BANGLORE          94\n",
              "96       Agra       AGRA         100\n",
              "97  Ahmedabad  AHMEDABAD         100\n",
              "98     Kanpur     KANPUR         100\n",
              "99  Ahmedabad  AHMEDABAD         100\n",
              "\n",
              "[100 rows x 3 columns]"
            ]
          },
          "metadata": {
            "tags": []
          },
          "execution_count": 61
        }
      ]
    },
    {
      "cell_type": "markdown",
      "metadata": {
        "id": "GsocR_R_OWGS",
        "colab_type": "text"
      },
      "source": [
        "## **Bonus Points: Analysis**   \n",
        "Show us analysis you can do on this data in terms of visualizations or plots (or any other)."
      ]
    },
    {
      "cell_type": "markdown",
      "metadata": {
        "id": "evWLvQwUzLz0",
        "colab_type": "text"
      },
      "source": [
        "## Send a link to this file back to us for evaluation.\n",
        "Use the share button on top and **make sure anyone with link can view this file** (not edit it).   \n",
        "See help below.\n",
        "\n",
        "Then send us the link using internshaala chat.\n",
        "\n",
        "![picture](https://i.imgur.com/nCb9AZrl.jpg)"
      ]
    }
  ]
}